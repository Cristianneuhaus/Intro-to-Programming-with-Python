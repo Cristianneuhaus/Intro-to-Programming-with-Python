{
  "nbformat": 4,
  "nbformat_minor": 0,
  "metadata": {
    "colab": {
      "name": "C2 IntroToMLProgramming.ipynb",
      "provenance": [],
      "private_outputs": true,
      "collapsed_sections": []
    },
    "kernelspec": {
      "name": "python3",
      "display_name": "Python 3"
    }
  },
  "cells": [
    {
      "cell_type": "markdown",
      "metadata": {
        "id": "8XMQKf29mulj",
        "colab_type": "text"
      },
      "source": [
        "# Decision Making\n",
        "The real power of programming begins with decision making, which is also called flow control. \n",
        "<br>\n",
        "This is where we have the program perform tasks dependent upon the outcome of comparisons. "
      ]
    },
    {
      "cell_type": "markdown",
      "metadata": {
        "id": "BaflHhYYptgL",
        "colab_type": "text"
      },
      "source": [
        "# if Statements"
      ]
    },
    {
      "cell_type": "code",
      "metadata": {
        "id": "LuAwW3PsnXF2",
        "colab_type": "code",
        "colab": {}
      },
      "source": [
        "# Clone the entire repo.\n",
        "!git clone -l -s https://github.com/cagBRT/Intro-to-Programming-with-Python.git cloned-repo\n",
        "%cd cloned-repo\n",
        "!ls"
      ],
      "execution_count": 0,
      "outputs": []
    },
    {
      "cell_type": "code",
      "metadata": {
        "id": "fYLD5EMd_IFt",
        "colab_type": "code",
        "colab": {}
      },
      "source": [
        "from IPython.display import Image\n",
        "def page(num):\n",
        "    return Image(\"c2-content/c2PythonProgramming\"+str(num)+ \".png\" , width=640)"
      ],
      "execution_count": 0,
      "outputs": []
    },
    {
      "cell_type": "code",
      "metadata": {
        "id": "RmJXNFYw_PD3",
        "colab_type": "code",
        "colab": {}
      },
      "source": [
        "page(1)"
      ],
      "execution_count": 0,
      "outputs": []
    },
    {
      "cell_type": "code",
      "metadata": {
        "id": "9F-JMa7LC7lb",
        "colab_type": "code",
        "colab": {}
      },
      "source": [
        "page(2)"
      ],
      "execution_count": 0,
      "outputs": []
    },
    {
      "cell_type": "code",
      "metadata": {
        "id": "6lGIFMX2lJYQ",
        "colab_type": "code",
        "colab": {}
      },
      "source": [
        "#an example of an if statement\n",
        "\n",
        "x = 10\n",
        "#if the following condition is true\n",
        "#perform the tasks indented after the colon\n",
        "if x > 9:\n",
        "  print(\"X is greater than 9\")"
      ],
      "execution_count": 0,
      "outputs": []
    },
    {
      "cell_type": "code",
      "metadata": {
        "id": "76hR1Ftfn2yH",
        "colab_type": "code",
        "colab": {}
      },
      "source": [
        "#another example of an if statement\n",
        "\n",
        "print(\"in main program: before 'if'\")\n",
        "x= 9\n",
        "y = 0\n",
        "if x == 9:\n",
        "  #Do this code if x = 9\n",
        "   print(\"starting 'if' code\")\n",
        "   print(\"x==9\")\n",
        "   y = 5\n",
        "   print(\"y = \", y)\n",
        "   print(\"End of 'if' code\")\n",
        "\n",
        "#main program code is always executed\n",
        "print(\"in main program: after 'if'\")\n",
        "\n",
        "if y==0:\n",
        "  #Do this code if y = 0\n",
        "  print(\"In the second 'if' code \")\n",
        "  print(\"x != 9\")\n",
        "print(\"y = \", y)\n"
      ],
      "execution_count": 0,
      "outputs": []
    },
    {
      "cell_type": "markdown",
      "metadata": {
        "id": "tv5H6xucp_cF",
        "colab_type": "text"
      },
      "source": [
        "# **Assignment #1**\n",
        "1. create two variables: x = 6, y = 4\n",
        "2. Write a program if x >y, print \"X is bigger\""
      ]
    },
    {
      "cell_type": "code",
      "metadata": {
        "id": "_9dCHVP1p29Q",
        "colab_type": "code",
        "colab": {}
      },
      "source": [
        "#Assignment #1\n",
        "#1. create two variables: x = 6, y = 4\n",
        "#2. Write a program that compares x and y \n",
        "#If x is greater than y,  print \"X is bigger\"\n",
        "\n",
        "#TODO\n"
      ],
      "execution_count": 0,
      "outputs": []
    },
    {
      "cell_type": "markdown",
      "metadata": {
        "id": "iUp3UTJOolqT",
        "colab_type": "text"
      },
      "source": [
        "# **Assignment #2**\n",
        "1. create two variables: x = 6, y = 4\n",
        "2. Write a program when x > 5, the program prints \"Greater than 5\"\n",
        "3. Also, if x < 5, the program prints \"Less than 5\"\n",
        "4. if x equals 5, the program prints \"Equal to 5\""
      ]
    },
    {
      "cell_type": "code",
      "metadata": {
        "id": "jqa64vdgokaE",
        "colab_type": "code",
        "colab": {}
      },
      "source": [
        "#Assignment 2\n",
        "#1. create two variables: x = 6, y = 4\n",
        "#2. Write a program when x > 5, the program prints \"Greater than 5\"\n",
        "#3. Also, if x < 5, the program prints \"Less than 5\"\n",
        "#4. if x equals 5, the program prints \"Equal to 5\"\n",
        "\n",
        "#TODO"
      ],
      "execution_count": 0,
      "outputs": []
    },
    {
      "cell_type": "markdown",
      "metadata": {
        "id": "iiqjuLw6prZN",
        "colab_type": "text"
      },
      "source": [
        "# if-else statements\n",
        "\n",
        "There can only be one else statement for each if statement. "
      ]
    },
    {
      "cell_type": "code",
      "metadata": {
        "id": "s5-WXOcaDkPa",
        "colab_type": "code",
        "colab": {}
      },
      "source": [
        "x = 2\n",
        "y = 0\n",
        "if x > 5:\n",
        "  y = 2*5\n",
        "elif x == 5: \n",
        "  y = x\n",
        "elif x == 4:\n",
        "  y = 3*5\n",
        "elif x == 3:\n",
        "  y = 4*5\n",
        "else: \n",
        "  y = 333\n",
        "print(\"y = \", y)"
      ],
      "execution_count": 0,
      "outputs": []
    },
    {
      "cell_type": "code",
      "metadata": {
        "id": "6rfkutb_oMPu",
        "colab_type": "code",
        "colab": {}
      },
      "source": [
        "Create a slide for if-else statements"
      ],
      "execution_count": 0,
      "outputs": []
    },
    {
      "cell_type": "code",
      "metadata": {
        "id": "Lan4-L0Mq6FT",
        "colab_type": "code",
        "colab": {}
      },
      "source": [
        "#Examples of if-else statements\n",
        "x = 10\n",
        "if x%5 == 0:\n",
        "  print(\"x is a multiple of 5\")\n",
        "else: \n",
        "  print(\"x is not a multiple of 5\")\n",
        "\n",
        "y = 11\n",
        "if y%5 == 0:\n",
        "  print(\"y is a multiple of 5\")\n",
        "else: \n",
        "  print(\"y is not a multiple of 5\")"
      ],
      "execution_count": 0,
      "outputs": []
    },
    {
      "cell_type": "markdown",
      "metadata": {
        "id": "T6aJUuFasB9K",
        "colab_type": "text"
      },
      "source": [
        "# **Assignment #3**\n",
        "1. create two variables: x,y \n",
        "2. Write a program when a variable is divisible by 3 print  variable value is divisible by 3 \n",
        "3. Otherwise  write variable value is not divisible by 3\n",
        "\n",
        "For example\n",
        "\n",
        "23 is not divisible by 3<br>\n",
        "15 is divisible by 3\n"
      ]
    },
    {
      "cell_type": "code",
      "metadata": {
        "id": "X4dIWwPUrsUF",
        "colab_type": "code",
        "colab": {}
      },
      "source": [
        "# **Assignment #3**\n",
        "#1. create two variables: x,y \n",
        "#2. Write a program when a variable is divisible by 3 print  variable value is divisible by 3 \n",
        "#3. Otherwise  write variable value is not divisible by 3 \n",
        "\n",
        "#TODO"
      ],
      "execution_count": 0,
      "outputs": []
    },
    {
      "cell_type": "markdown",
      "metadata": {
        "id": "A1TgD4NIs9-A",
        "colab_type": "text"
      },
      "source": [
        "# elif statements\n",
        "You can have more than one elif statement for a single if statement. <br>\n"
      ]
    },
    {
      "cell_type": "code",
      "metadata": {
        "id": "QvkzTpTFFn0I",
        "colab_type": "code",
        "colab": {}
      },
      "source": [
        "page(3)"
      ],
      "execution_count": 0,
      "outputs": []
    },
    {
      "cell_type": "code",
      "metadata": {
        "id": "KXlh28TStl4r",
        "colab_type": "code",
        "colab": {}
      },
      "source": [
        "#Example of an elif statement\n",
        "\n",
        "name = 'Tom'\n",
        "\n",
        "if name ==  \"Hari\":\n",
        "  print(\"this is Hari's house\") \n",
        "elif name == \"Catherine\": \n",
        "  print(\"this is Catherine's house\")\n",
        "elif name != \"Hari\" or \"Catherine\":\n",
        "  print(\"this is not Hari's or Catherine's house\")"
      ],
      "execution_count": 0,
      "outputs": []
    },
    {
      "cell_type": "markdown",
      "metadata": {
        "id": "uTTIKRt4qI3_",
        "colab_type": "text"
      },
      "source": [
        "# **Assignment #4**\n",
        "Create a program that does the following: <br>\n",
        "1. Prompts a user to enter a vowel (a,e,i,o,u)<br>\n",
        "2.   if a variable is an a, print \"it's a\" and change the variabable value to e and print \"it's now e\"<br>\n",
        "    if a variable is an e, print \"it's e\" and change the variabable value to i and print \"it's now i\"<br>\n",
        "    if a variable is an i, print \"it's i\" and change the variabable value to o and print \"it's now o\"<br>\n",
        "    if a variable is an o, print \"it's o\" and change the variabable value to u and print \"it's now u\"<br>\n",
        "    if a variable is an u, print \"it's u\" and change the variabable value to a and print \"it's now a\"<br>\n",
        "    <br>\n",
        "In other words: <br>\n",
        "  a --> e<br>\n",
        "  e --> i<br>\n",
        "  i --> o<br>\n",
        "  o --> u<br>\n",
        "  u --> a<br>\n",
        "\n",
        "\n",
        "You can assign the values to the variable in the program or get user input. <br>\n",
        "Ask for an input from the user. The inputs will be assigned as strings<br><br>\n",
        "The code for user inputs: <br>\n",
        "letter1 = input(\"letter1 =  \")\n"
      ]
    },
    {
      "cell_type": "markdown",
      "metadata": {
        "id": "xVn2J53ub7rw",
        "colab_type": "text"
      },
      "source": [
        "An else statement at the end becomes the default action if no other action is taken. "
      ]
    },
    {
      "cell_type": "code",
      "metadata": {
        "id": "yWZ0758ab-e7",
        "colab_type": "code",
        "colab": {}
      },
      "source": [
        "#Example of an elif statement\n",
        "x = \"this is my house\"\n",
        "\n",
        "if x == \"this is not my house\": \n",
        "  print(\"Not my house\")\n",
        "elif x == \"this is catherine's house\": \n",
        "  print(\"Catherine's house\")\n",
        "elif x == \"this is Hari's house\":\n",
        "  print(\"Hari's house\")\n",
        "else: \n",
        "    print(\"This must be my house\")"
      ],
      "execution_count": 0,
      "outputs": []
    },
    {
      "cell_type": "markdown",
      "metadata": {
        "id": "O5uCVc-ScFSC",
        "colab_type": "text"
      },
      "source": [
        "# **Assignment #5**\n",
        "Create a program that does the following: <br>\n",
        "1. Prompt the user to enter a number between 1 - 100<br>\n",
        "    If the number is equal to 5, print \"it's 5\"<br>\n",
        "    If the number is equal to 4, print \"it's 4\"<br>\n",
        "    If the number is greater than 10, print \"over 10\"<br>\n",
        "    If the number is less than 3, print \"under 3\"<br>\n",
        "    Otherwise print \"it is a 6,7,8,or 9\"<br>"
      ]
    },
    {
      "cell_type": "code",
      "metadata": {
        "id": "j5kqA5Hdp5W9",
        "colab_type": "code",
        "colab": {}
      },
      "source": [
        "#  **Assignment #5**\n",
        "#Create a program that does the following: <br>\n",
        "#1. Prompt the user to enter a number between 1 - 100<br>\n",
        "#    If the number is equal to 5, print \"it's 5\"<br>\n",
        "#    If the number is equal to 4, print \"it's 4\"<br>\n",
        "#    If the number is greater than 10, print \"over 10\"<br>\n",
        "#    If the number is less than 3, print \"under 3\"<br>\n",
        "#   Otherwise print \"it is a 6,7,8,or 9\"<br>\n",
        "\n",
        "#TODO"
      ],
      "execution_count": 0,
      "outputs": []
    },
    {
      "cell_type": "markdown",
      "metadata": {
        "id": "CENn0_BVIiK3",
        "colab_type": "text"
      },
      "source": [
        "# Quiz\n",
        "\n",
        "Test your Python skills with this quiz. "
      ]
    },
    {
      "cell_type": "code",
      "metadata": {
        "id": "oacDfJIbOdiZ",
        "colab_type": "code",
        "colab": {}
      },
      "source": [
        "page(5)"
      ],
      "execution_count": 0,
      "outputs": []
    },
    {
      "cell_type": "code",
      "metadata": {
        "id": "OyO_zm60PDZe",
        "colab_type": "code",
        "cellView": "form",
        "colab": {}
      },
      "source": [
        "#@title Q1: What is the output of the above code? \n",
        "\n",
        "text = '' #@param {type:\"string\"}\n",
        "text = text.lower()\n",
        "if text == \"hello\" or text == \"hello!\" :\n",
        "  print(\"correct!\")\n",
        "else:\n",
        "  print(\"Try again\")\n",
        "  print(\"Remember, the first true statement is executed\")\n"
      ],
      "execution_count": 0,
      "outputs": []
    },
    {
      "cell_type": "code",
      "metadata": {
        "id": "tVKayVozUKHQ",
        "colab_type": "code",
        "colab": {}
      },
      "source": [
        "page(6)"
      ],
      "execution_count": 0,
      "outputs": []
    },
    {
      "cell_type": "code",
      "metadata": {
        "id": "vbHmtpZuUUrq",
        "colab_type": "code",
        "colab": {},
        "cellView": "form"
      },
      "source": [
        "#@title Q2: What is the output of the above code? \n",
        "\n",
        "text = 'even' #@param {type:\"string\"}\n",
        "text = text.lower()\n",
        "if text == \"big\":\n",
        "  print(\"correct!\")\n",
        "else:\n",
        "  print(\"Try again\")\n",
        "  print(\"Remember, the first true statement is the one that is executed. \")\n"
      ],
      "execution_count": 0,
      "outputs": []
    },
    {
      "cell_type": "code",
      "metadata": {
        "id": "V6m3lPRDMWo_",
        "colab_type": "code",
        "cellView": "both",
        "colab": {}
      },
      "source": [
        "number = 54\n",
        "\n",
        "if number > 50: \n",
        "  print(\"Big\")\n",
        "elif number % 2 == 0:\n",
        "  print(\"Even\")\n",
        "elif number < 50:\n",
        "  print(\"small\")\n",
        "else:\n",
        "  print(\"54\") "
      ],
      "execution_count": 0,
      "outputs": []
    },
    {
      "cell_type": "markdown",
      "metadata": {
        "id": "idfrTqUgxNHw",
        "colab_type": "text"
      },
      "source": [
        "# Challenge Concept: Nested if statements\n",
        "Sometimes you may want to check for a condition after you have satisfied a condition. <br>\n",
        "For example: <br>\n",
        "1. is a variable is less than 100?<br>\n",
        "   2. is the variable an even number? <br>\n",
        "      3. is the variable greater than 20?<br>\n",
        "\n",
        "\n",
        "\n"
      ]
    },
    {
      "cell_type": "code",
      "metadata": {
        "id": "rTbDT49HyQqt",
        "colab_type": "code",
        "colab": {}
      },
      "source": [
        "#Example of nested if statements\n",
        "variable1 = 70\n",
        "\n",
        "print(\"variable1 is \")\n",
        "if variable1 < 100:\n",
        "  #print(\"less\")\n",
        "  if variable1 % 2 == 0:\n",
        "    print(\"even\")\n",
        "    if variable1 > 20:\n",
        "      print(\"even and between 100 and 20 \")\n",
        "    else:\n",
        "      print(\"even and less than 20\")\n",
        "  else:\n",
        "    print(\"odd\")\n",
        "else: \n",
        "  print(\"greater than 100\")\n",
        "\n"
      ],
      "execution_count": 0,
      "outputs": []
    }
  ]
}