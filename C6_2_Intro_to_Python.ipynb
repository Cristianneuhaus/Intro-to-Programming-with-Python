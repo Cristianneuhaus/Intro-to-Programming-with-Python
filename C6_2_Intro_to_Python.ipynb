{
  "nbformat": 4,
  "nbformat_minor": 0,
  "metadata": {
    "colab": {
      "name": "C6 2 Intro to Python.ipynb",
      "provenance": [],
      "private_outputs": true,
      "authorship_tag": "ABX9TyOKpguywxWkysCHjWTFzRcw",
      "include_colab_link": true
    },
    "kernelspec": {
      "name": "python3",
      "display_name": "Python 3"
    }
  },
  "cells": [
    {
      "cell_type": "markdown",
      "metadata": {
        "id": "view-in-github",
        "colab_type": "text"
      },
      "source": [
        "<a href=\"https://colab.research.google.com/github/cagBRT/Intro-to-Programming-with-Python/blob/master/C6_2_Intro_to_Python.ipynb\" target=\"_parent\"><img src=\"https://colab.research.google.com/assets/colab-badge.svg\" alt=\"Open In Colab\"/></a>"
      ]
    },
    {
      "cell_type": "markdown",
      "metadata": {
        "id": "t25oU9WDHR2g",
        "colab_type": "text"
      },
      "source": [
        "# **Lambda Functions**\n",
        "A lambda function is a small anonymous function.<br>\n",
        "\n",
        "A lambda function can take any number of arguments, but can only have one expression.<br>\n",
        "\n",
        "The syntax is: <br>\n",
        "\n",
        "lambda arguments : expression"
      ]
    },
    {
      "cell_type": "code",
      "metadata": {
        "id": "O3jyk4PYHMpb",
        "colab_type": "code",
        "colab": {}
      },
      "source": [
        "#Example of a lambda function\n",
        "x = lambda a : a * 5\n",
        "print(x(5))"
      ],
      "execution_count": 0,
      "outputs": []
    },
    {
      "cell_type": "markdown",
      "metadata": {
        "id": "TPYnqO5UJkKA",
        "colab_type": "text"
      },
      "source": [
        "# **Assignment #1**\n",
        "Create a lambda function that adds 2.5 to the argument"
      ]
    },
    {
      "cell_type": "code",
      "metadata": {
        "id": "HLcxqtocJ5g3",
        "colab_type": "code",
        "colab": {}
      },
      "source": [
        ""
      ],
      "execution_count": 0,
      "outputs": []
    },
    {
      "cell_type": "markdown",
      "metadata": {
        "id": "n_1sFDJiJ8l9",
        "colab_type": "text"
      },
      "source": [
        "**Lambda functions can take multiple arguments**"
      ]
    },
    {
      "cell_type": "code",
      "metadata": {
        "id": "QvTPGpXvKJIV",
        "colab_type": "code",
        "colab": {}
      },
      "source": [
        "#Example of a lambda function with multiple arguments\n",
        "x = lambda a,b,c : (a * b)/c\n",
        "print(x(1,2,3))"
      ],
      "execution_count": 0,
      "outputs": []
    },
    {
      "cell_type": "markdown",
      "metadata": {
        "id": "dsehTZ3gNO14",
        "colab_type": "text"
      },
      "source": [
        "# **Assignment #2**\n",
        "Create a lambda function that takes 4 arguments and add them together. "
      ]
    },
    {
      "cell_type": "code",
      "metadata": {
        "id": "Q1hMzibNNO_S",
        "colab_type": "code",
        "colab": {}
      },
      "source": [
        "#Assignment #2"
      ],
      "execution_count": 0,
      "outputs": []
    },
    {
      "cell_type": "markdown",
      "metadata": {
        "id": "PyqxfEPNKmlc",
        "colab_type": "text"
      },
      "source": [
        "**Lamdba functions can increase the versatility of your functions**<br>\n",
        "Step 1: Create a function that uses a lambda function"
      ]
    },
    {
      "cell_type": "code",
      "metadata": {
        "id": "fIp8t59wKu13",
        "colab_type": "code",
        "colab": {}
      },
      "source": [
        "#For example:\n",
        "#Create a function that uses a lambda function\n",
        "def myfunc(n):\n",
        "  return lambda a : a + n"
      ],
      "execution_count": 0,
      "outputs": []
    },
    {
      "cell_type": "markdown",
      "metadata": {
        "id": "w7zNdEaBLLB3",
        "colab_type": "text"
      },
      "source": [
        "Step 2: define the value of the argument in the lambda function"
      ]
    },
    {
      "cell_type": "code",
      "metadata": {
        "id": "M4qkzdLfLLK-",
        "colab_type": "code",
        "colab": {}
      },
      "source": [
        "#Add 4 to any value \n",
        "my_adder = myfunc(4)"
      ],
      "execution_count": 0,
      "outputs": []
    },
    {
      "cell_type": "markdown",
      "metadata": {
        "id": "1fBGfK5YLZVW",
        "colab_type": "text"
      },
      "source": [
        "Call the function with a function parameter "
      ]
    },
    {
      "cell_type": "code",
      "metadata": {
        "id": "g04HJjtHLZe6",
        "colab_type": "code",
        "colab": {}
      },
      "source": [
        "print(my_adder(33))"
      ],
      "execution_count": 0,
      "outputs": []
    },
    {
      "cell_type": "markdown",
      "metadata": {
        "id": "BNJVP1E0Lo9y",
        "colab_type": "text"
      },
      "source": [
        "# **Assignment #3**\n",
        "1. Create a function that uses a lambda function. The lambda function should subtract 2 from the lambda argument. "
      ]
    },
    {
      "cell_type": "code",
      "metadata": {
        "id": "ZtQXMphDM_yF",
        "colab_type": "code",
        "colab": {}
      },
      "source": [
        "#Assignment #3"
      ],
      "execution_count": 0,
      "outputs": []
    },
    {
      "cell_type": "markdown",
      "metadata": {
        "id": "jiwCLtAqNgQk",
        "colab_type": "text"
      },
      "source": [
        "**Changing the lambda function in the function** \n",
        "Change the argument to the lambda function and this will change the function. "
      ]
    },
    {
      "cell_type": "code",
      "metadata": {
        "id": "eLaY2JgmNlvG",
        "colab_type": "code",
        "colab": {}
      },
      "source": [
        "#Add 5 to any value \n",
        "my_adder = myfunc(5)"
      ],
      "execution_count": 0,
      "outputs": []
    },
    {
      "cell_type": "code",
      "metadata": {
        "id": "gNE5p6LFNuhT",
        "colab_type": "code",
        "colab": {}
      },
      "source": [
        "#Now the function will add 5 to any number\n",
        "print(my_adder(33))"
      ],
      "execution_count": 0,
      "outputs": []
    },
    {
      "cell_type": "markdown",
      "metadata": {
        "id": "EVjnPoT1N_iZ",
        "colab_type": "text"
      },
      "source": [
        "# **Assignment #4**\n",
        "1. Change your lambda function to subtract 4 from any number.\n",
        "2. Call your function and see the difference.\n"
      ]
    },
    {
      "cell_type": "code",
      "metadata": {
        "id": "IeqZks-4OSnK",
        "colab_type": "code",
        "colab": {}
      },
      "source": [
        "#Assignment #4"
      ],
      "execution_count": 0,
      "outputs": []
    },
    {
      "cell_type": "markdown",
      "metadata": {
        "id": "mAqEgYsqOgcf",
        "colab_type": "text"
      },
      "source": [
        "Use the same function definition to make multiple functions, in the same program"
      ]
    },
    {
      "cell_type": "code",
      "metadata": {
        "id": "szMELuIxOn-u",
        "colab_type": "code",
        "colab": {}
      },
      "source": [
        "def func_compute(n):\n",
        " return lambda x : x * n\n",
        "\n",
        "result = func_compute(2)\n",
        "print(\"Double the number of 15 =\", result(15))\n",
        "\n",
        "result = func_compute(3)\n",
        "print(\"Triple the number of 15 =\", result(15))\n",
        "\n",
        "result = func_compute(4)\n",
        "print(\"Quadruple the number of 15 =\", result(15))\n",
        "\n",
        "result = func_compute(5)\n",
        "print(\"Quintuple the number 15 =\", result(15))\n"
      ],
      "execution_count": 0,
      "outputs": []
    },
    {
      "cell_type": "markdown",
      "metadata": {
        "id": "DrhP6cIWPdPM",
        "colab_type": "text"
      },
      "source": [
        "# **Assignment #5**\n",
        "Use the same function definition to make both functions, in the same program"
      ]
    },
    {
      "cell_type": "code",
      "metadata": {
        "id": "bckSBpdHPuXk",
        "colab_type": "code",
        "colab": {}
      },
      "source": [
        "#Assignment #5"
      ],
      "execution_count": 0,
      "outputs": []
    }
  ]
}