{
  "nbformat": 4,
  "nbformat_minor": 0,
  "metadata": {
    "colab": {
      "name": "C4 Intro to Python.ipynb",
      "provenance": [],
      "private_outputs": true,
      "collapsed_sections": []
    },
    "kernelspec": {
      "name": "python3",
      "display_name": "Python 3"
    }
  },
  "cells": [
    {
      "cell_type": "code",
      "metadata": {
        "id": "wzaZwT_u5LIM",
        "colab_type": "code",
        "colab": {}
      },
      "source": [
        "# Clone the entire repo.\n",
        "!git clone -l -s https://github.com/cagBRT/Intro-to-Programming-with-Python.git cloned-repo\n",
        "%cd cloned-repo\n",
        "!ls"
      ],
      "execution_count": 0,
      "outputs": []
    },
    {
      "cell_type": "code",
      "metadata": {
        "id": "IvAdiM855QI2",
        "colab_type": "code",
        "colab": {}
      },
      "source": [
        "from IPython.display import Image\n",
        "def page(num):\n",
        "    return Image(\"c4-content/c4PythonProgramming\"+str(num)+ \".png\" , width=640)"
      ],
      "execution_count": 0,
      "outputs": []
    },
    {
      "cell_type": "markdown",
      "metadata": {
        "id": "0LCJUYrC7uI7",
        "colab_type": "text"
      },
      "source": [
        "# For Loops\n",
        "\n",
        "There are times when you may want to execute the same task several times. Rather than writing the code over and over, you can use a 'for' loop. <br>\n"
      ]
    },
    {
      "cell_type": "code",
      "metadata": {
        "id": "i20WrHhndfi6",
        "colab_type": "code",
        "colab": {}
      },
      "source": [
        "page(1)"
      ],
      "execution_count": 0,
      "outputs": []
    },
    {
      "cell_type": "code",
      "metadata": {
        "id": "cthjnWIpArbC",
        "colab_type": "code",
        "colab": {}
      },
      "source": [
        "page(2)"
      ],
      "execution_count": 0,
      "outputs": []
    },
    {
      "cell_type": "markdown",
      "metadata": {
        "id": "_2uXQpJoA7Vq",
        "colab_type": "text"
      },
      "source": [
        "A Python 'for' loop uses the form: <br><br>\n",
        "\n",
        "for iterating_var in sequence: <br>\n",
        ">   statements(s)\n"
      ]
    },
    {
      "cell_type": "code",
      "metadata": {
        "id": "fHRltgUW-LKD",
        "colab_type": "code",
        "colab": {}
      },
      "source": [
        "for letter in 'Python':   \n",
        "   print ('Current Letter :', letter)"
      ],
      "execution_count": 0,
      "outputs": []
    },
    {
      "cell_type": "markdown",
      "metadata": {
        "id": "XO9aI9ngBLgV",
        "colab_type": "text"
      },
      "source": [
        "# **Assignment #1**\n",
        "\n",
        "Write a program to do the following: \n",
        "1. For every letter in your name, use a for loop to \n",
        "> print (\"letter is \", letter)"
      ]
    },
    {
      "cell_type": "code",
      "metadata": {
        "id": "RSuvbTg3-LL5",
        "colab_type": "code",
        "colab": {}
      },
      "source": [
        "#Assignment #1\n",
        "\n",
        "#TODO"
      ],
      "execution_count": 0,
      "outputs": []
    },
    {
      "cell_type": "markdown",
      "metadata": {
        "id": "eqMpJh59SXG_",
        "colab_type": "text"
      },
      "source": [
        "**For loops can be used with numbers.**"
      ]
    },
    {
      "cell_type": "code",
      "metadata": {
        "id": "W3hJkCzVSujN",
        "colab_type": "code",
        "colab": {}
      },
      "source": [
        "#for loop example\n",
        "for x in range(6): \n",
        "  print(x)"
      ],
      "execution_count": 0,
      "outputs": []
    },
    {
      "cell_type": "markdown",
      "metadata": {
        "id": "JqXaUNuOTqFE",
        "colab_type": "text"
      },
      "source": [
        "# **Assignment #2**\n",
        "Use a 'for' loop to print the integers from 0 - 9"
      ]
    },
    {
      "cell_type": "code",
      "metadata": {
        "id": "q4P23vXcT8Qx",
        "colab_type": "code",
        "colab": {}
      },
      "source": [
        "# **Assignment #2**\n",
        "\n",
        "#TODO"
      ],
      "execution_count": 0,
      "outputs": []
    },
    {
      "cell_type": "markdown",
      "metadata": {
        "id": "oyHqUKKOUK7I",
        "colab_type": "text"
      },
      "source": [
        "**For loops can be assigned a range and increment value.**"
      ]
    },
    {
      "cell_type": "code",
      "metadata": {
        "id": "kv5ypFUlVQZk",
        "colab_type": "code",
        "colab": {}
      },
      "source": [
        "#Example of for loop with a range and\n",
        "#increment value\n",
        "\n",
        "#Print the every 5th integer from 10 - 50 \n",
        "for x in range(10,50,5):\n",
        "  print(x)"
      ],
      "execution_count": 0,
      "outputs": []
    },
    {
      "cell_type": "markdown",
      "metadata": {
        "id": "3F3n77FhVhxg",
        "colab_type": "text"
      },
      "source": [
        "# **Assignment #3<br>**\n",
        "Use a 'for' loop to print every third integer from 30 to 60, inclusive\n"
      ]
    },
    {
      "cell_type": "code",
      "metadata": {
        "id": "z0B34x0SV6Xo",
        "colab_type": "code",
        "colab": {}
      },
      "source": [
        "#Assignment #3\n",
        "\n",
        "#TODO\n"
      ],
      "execution_count": 0,
      "outputs": []
    },
    {
      "cell_type": "markdown",
      "metadata": {
        "id": "lSotk3Z0pKde",
        "colab_type": "text"
      },
      "source": [
        "**Debug Exercise**<br>\n",
        "Fix the code below"
      ]
    },
    {
      "cell_type": "code",
      "metadata": {
        "id": "8Vn5pqiOo5JW",
        "colab_type": "code",
        "colab": {}
      },
      "source": [
        "for x in range(10, 20.5, 2.5):\n",
        "  print(x)"
      ],
      "execution_count": 0,
      "outputs": []
    },
    {
      "cell_type": "markdown",
      "metadata": {
        "id": "nOUJULL8V-jm",
        "colab_type": "text"
      },
      "source": [
        "**Using the 'else' statement with a for loop.**<br>\n",
        "An 'else' statement can be used with a for loop. <br>\n",
        "The example below uses an else statement, but it is not a very good example. Why? "
      ]
    },
    {
      "cell_type": "code",
      "metadata": {
        "id": "Xx2ZI6ZKWoCR",
        "colab_type": "code",
        "colab": {}
      },
      "source": [
        "for number in range(5):\n",
        "  print(number)\n",
        "else: \n",
        "  print(\"Done\")"
      ],
      "execution_count": 0,
      "outputs": []
    },
    {
      "cell_type": "markdown",
      "metadata": {
        "id": "jEWAsF6DjIP3",
        "colab_type": "text"
      },
      "source": [
        "A better example of using an 'else' statement with a for loop. "
      ]
    },
    {
      "cell_type": "code",
      "metadata": {
        "id": "iQ1GWqpkjfuo",
        "colab_type": "code",
        "colab": {}
      },
      "source": [
        "number_of_i = 0\n",
        "number_of_others = 0\n",
        "sentence = \"I'm going to make him an offer he can't refuse\"\n",
        "for x in sentence: \n",
        "  if x== 'a': \n",
        "    number_of_i  = number_of_i  + 1\n",
        "  else: \n",
        "    number_of_others = number_of_others + 1\n",
        "print(\"there are \", number_of_i, \"i's in sentence\")\n",
        "print(\"there are \", number_of_others, \"other characters\")"
      ],
      "execution_count": 0,
      "outputs": []
    },
    {
      "cell_type": "markdown",
      "metadata": {
        "id": "W849Ytrfpe1L",
        "colab_type": "text"
      },
      "source": [
        "# **Assignment #4**\n",
        "1. Print the characters in this sentence:\n",
        ">The rain in Spain falls mainly in the plain. \n",
        "2. Count all the letters, ignoring the blank spaces\n",
        "3. Print out the number of letters in the sentence"
      ]
    },
    {
      "cell_type": "code",
      "metadata": {
        "id": "T-xIFEdsp7Nn",
        "colab_type": "code",
        "colab": {}
      },
      "source": [
        "#Assignment 4\n",
        "\n",
        "#TODO"
      ],
      "execution_count": 0,
      "outputs": []
    },
    {
      "cell_type": "markdown",
      "metadata": {
        "id": "pF9JO7rup_G3",
        "colab_type": "text"
      },
      "source": [
        "**Debug Exercise**\n",
        "Fix the code below\n"
      ]
    },
    {
      "cell_type": "code",
      "metadata": {
        "id": "JFkydWANqFUV",
        "colab_type": "code",
        "colab": {}
      },
      "source": [
        "sentence = \"The quick brown fox jumped over the lazy dog\"\n",
        "for letter in sentence\n",
        "  print(letter)\n",
        "else \n",
        "  print(\"Done\")"
      ],
      "execution_count": 0,
      "outputs": []
    },
    {
      "cell_type": "markdown",
      "metadata": {
        "id": "VVKbTP32qeZA",
        "colab_type": "text"
      },
      "source": [
        "# **Assignment #**\n",
        "1. Create a List with the following words:\n",
        ">dog, cat, bunny, goat, cow, giraffe, pig, chicken\n",
        "2. Count the animals in the list. \n",
        "3. If the word giraffe is in the list print \"A giraffe is Not domesticated!\"\n",
        "\n"
      ]
    },
    {
      "cell_type": "markdown",
      "metadata": {
        "id": "8-EsABJmoZph",
        "colab_type": "text"
      },
      "source": [
        "Congrats! You finished another Python Module.\n",
        "Keep up the good work....start the next module\n",
        "\n",
        "C5 Intro to ML Programming with Python\n",
        "<br><br>\n",
        "Instructions to access the notebooks:<br> \n",
        "In a Chrome or Firefox Window type on the search bar: **Google CoLab**<br>\n",
        "\n",
        "On the orange menu bar, select the menu item: **GITHUB**<br>\n",
        "\n",
        "If the orange pop-up menu does not appear, <br>\n",
        "\n",
        "In the Notebook environment, select File>Open notebook <br>\n",
        "\n",
        "The orange pop-up menu should now appear.<br>\n",
        "\n",
        "Select:  GITHUB<br>\n",
        "\n",
        "On the search bar type in: **cagBRT**  This will bring up my gitHub repository. <br>\n",
        "\n",
        "On the drop down menu select: cagBRT/<br>**Intro-To-Programming-with-Python**<br>\n",
        "\n",
        "Then select: **Intro to C5 Intro to Python.ipynb**<br>"
      ]
    }
  ]
}