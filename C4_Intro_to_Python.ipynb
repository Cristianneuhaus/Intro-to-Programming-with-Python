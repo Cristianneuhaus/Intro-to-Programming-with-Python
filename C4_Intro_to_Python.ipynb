{
  "nbformat": 4,
  "nbformat_minor": 0,
  "metadata": {
    "colab": {
      "name": "C4 Intro to Python.ipynb",
      "provenance": [],
      "private_outputs": true,
      "include_colab_link": true
    },
    "kernelspec": {
      "name": "python3",
      "display_name": "Python 3"
    }
  },
  "cells": [
    {
      "cell_type": "markdown",
      "metadata": {
        "id": "view-in-github",
        "colab_type": "text"
      },
      "source": [
        "<a href=\"https://colab.research.google.com/github/cagBRT/Intro-to-Programming-with-Python/blob/master/C4_Intro_to_Python.ipynb\" target=\"_parent\"><img src=\"https://colab.research.google.com/assets/colab-badge.svg\" alt=\"Open In Colab\"/></a>"
      ]
    },
    {
      "cell_type": "markdown",
      "metadata": {
        "id": "927isjNX3nwZ",
        "colab_type": "text"
      },
      "source": [
        "# Manipulating Text Data"
      ]
    },
    {
      "cell_type": "code",
      "metadata": {
        "id": "fcGkoiPv2BUj",
        "colab_type": "code",
        "colab": {}
      },
      "source": [
        "!git clone https://github.com/cagBRT/Intro-to-Programming-with-Python.git"
      ],
      "execution_count": 0,
      "outputs": []
    },
    {
      "cell_type": "code",
      "metadata": {
        "id": "lmtT0x6j2Vgq",
        "colab_type": "code",
        "colab": {}
      },
      "source": [
        "import csv"
      ],
      "execution_count": 0,
      "outputs": []
    },
    {
      "cell_type": "markdown",
      "metadata": {
        "id": "T717upjX3xOT",
        "colab_type": "text"
      },
      "source": [
        "**Create a list from the CSV File**\n",
        "1. Open the file using the form: \n",
        "    file_cache = csv.reader(open('path-of-csv-file.csv'))\n",
        "2. Create a list using the form:\n",
        "    list_name = list(file_cache)"
      ]
    },
    {
      "cell_type": "code",
      "metadata": {
        "id": "zOb1viV52Xhe",
        "colab_type": "code",
        "colab": {}
      },
      "source": [
        "r = csv.reader(open('/content/Intro-to-Programming-with-Python/data_files/cities.csv')) # Here your csv file\n",
        "lines = list(r)"
      ],
      "execution_count": 0,
      "outputs": []
    },
    {
      "cell_type": "markdown",
      "metadata": {
        "id": "Vm--tW3L4XX2",
        "colab_type": "text"
      },
      "source": [
        "**Look at the text data in the Python List**"
      ]
    },
    {
      "cell_type": "code",
      "metadata": {
        "id": "6FiNjdsO2-5C",
        "colab_type": "code",
        "colab": {}
      },
      "source": [
        "print(*lines, sep=\"\\n\")"
      ],
      "execution_count": 0,
      "outputs": []
    },
    {
      "cell_type": "markdown",
      "metadata": {
        "id": "bYLx3Dik4gW8",
        "colab_type": "text"
      },
      "source": [
        "**Change a value in the list**\n",
        "\n",
        "Use the string manipulation methods with individual values. "
      ]
    },
    {
      "cell_type": "code",
      "metadata": {
        "id": "-9FlX8en46CS",
        "colab_type": "code",
        "colab": {}
      },
      "source": [
        "print(\"before : \",lines[2][9])\n",
        "upper_case_version = lines[2][9].upper()\n",
        "print(\"after : \", lines[2][9])"
      ],
      "execution_count": 0,
      "outputs": []
    },
    {
      "cell_type": "code",
      "metadata": {
        "id": "ksQR57gS5Nb6",
        "colab_type": "code",
        "colab": {}
      },
      "source": [
        "print(\"before : \",lines[20][9])\n",
        "lower_case_version = lines[20][9].lower()\n",
        "print(\"after : \", lower_case_version)"
      ],
      "execution_count": 0,
      "outputs": []
    }
  ]
}