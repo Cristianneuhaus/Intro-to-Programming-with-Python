{
  "nbformat": 4,
  "nbformat_minor": 0,
  "metadata": {
    "colab": {
      "name": "C4 Intro to Python.ipynb",
      "provenance": [],
      "private_outputs": true,
      "collapsed_sections": [],
      "include_colab_link": true
    },
    "kernelspec": {
      "name": "python3",
      "display_name": "Python 3"
    }
  },
  "cells": [
    {
      "cell_type": "markdown",
      "metadata": {
        "id": "view-in-github",
        "colab_type": "text"
      },
      "source": [
        "<a href=\"https://colab.research.google.com/github/cagBRT/Intro-to-Programming-with-Python/blob/master/C4_Intro_to_Python.ipynb\" target=\"_parent\"><img src=\"https://colab.research.google.com/assets/colab-badge.svg\" alt=\"Open In Colab\"/></a>"
      ]
    },
    {
      "cell_type": "code",
      "metadata": {
        "id": "wzaZwT_u5LIM",
        "colab_type": "code",
        "colab": {}
      },
      "source": [
        "# Clone the entire repo.\n",
        "!git clone -l -s https://github.com/cagBRT/Intro-to-Programming-with-Python.git cloned-repo\n",
        "%cd cloned-repo\n",
        "!ls"
      ],
      "execution_count": 0,
      "outputs": []
    },
    {
      "cell_type": "code",
      "metadata": {
        "id": "IvAdiM855QI2",
        "colab_type": "code",
        "colab": {}
      },
      "source": [
        "from IPython.display import Image\n",
        "def page(num):\n",
        "    return Image(\"c4-content/c4PythonProgramming\"+str(num)+ \".png\" , width=640)"
      ],
      "execution_count": 0,
      "outputs": []
    },
    {
      "cell_type": "markdown",
      "metadata": {
        "id": "0LCJUYrC7uI7",
        "colab_type": "text"
      },
      "source": [
        "# For Loops\n",
        "\n",
        "There are times when you may want to execute the same task several times. Rather than writing the code over and over, you can use a 'for' loop. <br>\n"
      ]
    },
    {
      "cell_type": "code",
      "metadata": {
        "id": "i20WrHhndfi6",
        "colab_type": "code",
        "colab": {}
      },
      "source": [
        "page(1)"
      ],
      "execution_count": 0,
      "outputs": []
    },
    {
      "cell_type": "code",
      "metadata": {
        "id": "cthjnWIpArbC",
        "colab_type": "code",
        "colab": {}
      },
      "source": [
        "page(2)"
      ],
      "execution_count": 0,
      "outputs": []
    },
    {
      "cell_type": "markdown",
      "metadata": {
        "id": "_2uXQpJoA7Vq",
        "colab_type": "text"
      },
      "source": [
        "A Python 'for' loop uses the form: <br><br>\n",
        "\n",
        "for iterating_var in sequence: <br>\n",
        ">   statements(s)\n"
      ]
    },
    {
      "cell_type": "code",
      "metadata": {
        "id": "fHRltgUW-LKD",
        "colab_type": "code",
        "colab": {}
      },
      "source": [
        "for letter in 'Python':   \n",
        "   print ('Current Letter :', letter)"
      ],
      "execution_count": 0,
      "outputs": []
    },
    {
      "cell_type": "markdown",
      "metadata": {
        "id": "XO9aI9ngBLgV",
        "colab_type": "text"
      },
      "source": [
        "# **Assignment #1**\n",
        "\n",
        "Write a program to do the following: \n",
        "1. For every letter in your name, use a for loop to \n",
        "> print (\"letter is \", letter)"
      ]
    },
    {
      "cell_type": "code",
      "metadata": {
        "id": "RSuvbTg3-LL5",
        "colab_type": "code",
        "colab": {}
      },
      "source": [
        "#Assignment #1\n",
        "\n",
        "#TODO"
      ],
      "execution_count": 0,
      "outputs": []
    },
    {
      "cell_type": "markdown",
      "metadata": {
        "id": "eqMpJh59SXG_",
        "colab_type": "text"
      },
      "source": [
        "**For loops can be used with numbers.**"
      ]
    },
    {
      "cell_type": "code",
      "metadata": {
        "id": "W3hJkCzVSujN",
        "colab_type": "code",
        "colab": {}
      },
      "source": [
        "#for loop example\n",
        "for x in range(6): \n",
        "  print(x)"
      ],
      "execution_count": 0,
      "outputs": []
    },
    {
      "cell_type": "markdown",
      "metadata": {
        "id": "JqXaUNuOTqFE",
        "colab_type": "text"
      },
      "source": [
        "# **Assignment #2**\n",
        "Use a 'for' loop to print the integers from 0 - 9"
      ]
    },
    {
      "cell_type": "code",
      "metadata": {
        "id": "q4P23vXcT8Qx",
        "colab_type": "code",
        "colab": {}
      },
      "source": [
        "# **Assignment #2**\n",
        "\n",
        "#TODO"
      ],
      "execution_count": 0,
      "outputs": []
    },
    {
      "cell_type": "markdown",
      "metadata": {
        "id": "oyHqUKKOUK7I",
        "colab_type": "text"
      },
      "source": [
        "**For loops can be assigned a range and increment value.**"
      ]
    },
    {
      "cell_type": "code",
      "metadata": {
        "id": "kv5ypFUlVQZk",
        "colab_type": "code",
        "colab": {}
      },
      "source": [
        "#Example of for loop with a range and\n",
        "#increment value\n",
        "\n",
        "for x in range(10,50,5):\n",
        "  print(x)"
      ],
      "execution_count": 0,
      "outputs": []
    },
    {
      "cell_type": "markdown",
      "metadata": {
        "id": "3F3n77FhVhxg",
        "colab_type": "text"
      },
      "source": [
        "# **Assignment #3<br>**\n",
        "Use a 'for' loop to print every third integer from 30 to 60, inclusive\n"
      ]
    },
    {
      "cell_type": "code",
      "metadata": {
        "id": "z0B34x0SV6Xo",
        "colab_type": "code",
        "colab": {}
      },
      "source": [
        "#Assignment #3\n",
        "\n",
        "#TODO\n"
      ],
      "execution_count": 0,
      "outputs": []
    },
    {
      "cell_type": "markdown",
      "metadata": {
        "id": "nOUJULL8V-jm",
        "colab_type": "text"
      },
      "source": [
        "**Using the 'else' statement with a for loop.**"
      ]
    },
    {
      "cell_type": "code",
      "metadata": {
        "id": "Xx2ZI6ZKWoCR",
        "colab_type": "code",
        "colab": {}
      },
      "source": [
        "for number in range(5):\n",
        "  print()"
      ],
      "execution_count": 0,
      "outputs": []
    },
    {
      "cell_type": "markdown",
      "metadata": {
        "id": "8-EsABJmoZph",
        "colab_type": "text"
      },
      "source": [
        "Congrats! You finished another Python Module.\n",
        "Keep up the good work....start the next module\n",
        "\n",
        "C5 Intro to ML Programming with Python\n",
        "<br><br>\n",
        "Instructions to access the notebooks:<br> \n",
        "In a Chrome or Firefox Window type on the search bar: **Google CoLab**<br>\n",
        "\n",
        "On the orange menu bar, select the menu item: **GITHUB**<br>\n",
        "\n",
        "If the orange pop-up menu does not appear, <br>\n",
        "\n",
        "In the Notebook environment, select File>Open notebook <br>\n",
        "\n",
        "The orange pop-up menu should now appear.<br>\n",
        "\n",
        "Select:  GITHUB<br>\n",
        "\n",
        "On the search bar type in: **cagBRT**  This will bring up my gitHub repository. <br>\n",
        "\n",
        "On the drop down menu select: cagBRT/<br>**Intro-To-Programming-with-Python**<br>\n",
        "\n",
        "Then select: **Intro to C5 Intro to Python.ipynb**<br>"
      ]
    }
  ]
}