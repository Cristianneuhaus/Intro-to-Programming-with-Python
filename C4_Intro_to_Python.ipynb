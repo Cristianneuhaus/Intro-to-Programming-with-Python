{
  "nbformat": 4,
  "nbformat_minor": 0,
  "metadata": {
    "colab": {
      "name": "C4 Intro to Python.ipynb",
      "provenance": [],
      "private_outputs": true,
      "collapsed_sections": [],
      "include_colab_link": true
    },
    "kernelspec": {
      "name": "python3",
      "display_name": "Python 3"
    }
  },
  "cells": [
    {
      "cell_type": "markdown",
      "metadata": {
        "id": "view-in-github",
        "colab_type": "text"
      },
      "source": [
        "<a href=\"https://colab.research.google.com/github/cagBRT/Intro-to-Programming-with-Python/blob/master/C4_Intro_to_Python.ipynb\" target=\"_parent\"><img src=\"https://colab.research.google.com/assets/colab-badge.svg\" alt=\"Open In Colab\"/></a>"
      ]
    },
    {
      "cell_type": "code",
      "metadata": {
        "id": "wzaZwT_u5LIM",
        "colab_type": "code",
        "colab": {}
      },
      "source": [
        "# Clone the entire repo.\n",
        "!git clone -l -s https://github.com/cagBRT/Intro-to-Programming-with-Python.git cloned-repo\n",
        "%cd cloned-repo\n",
        "!ls"
      ],
      "execution_count": 0,
      "outputs": []
    },
    {
      "cell_type": "code",
      "metadata": {
        "id": "IvAdiM855QI2",
        "colab_type": "code",
        "colab": {}
      },
      "source": [
        "from IPython.display import Image\n",
        "def page(num):\n",
        "    return Image(\"c4-content/c4PythonProgramming\"+str(num)+ \".png\" , width=640)"
      ],
      "execution_count": 0,
      "outputs": []
    },
    {
      "cell_type": "markdown",
      "metadata": {
        "id": "0LCJUYrC7uI7",
        "colab_type": "text"
      },
      "source": [
        "# For Loops\n",
        "\n",
        "There are times when you may want to execute the same task several times. Rather than writing the code over and over, you can use a 'for' loop. <br>\n"
      ]
    },
    {
      "cell_type": "code",
      "metadata": {
        "id": "i20WrHhndfi6",
        "colab_type": "code",
        "colab": {}
      },
      "source": [
        "page(1)"
      ],
      "execution_count": 0,
      "outputs": []
    },
    {
      "cell_type": "code",
      "metadata": {
        "id": "cthjnWIpArbC",
        "colab_type": "code",
        "colab": {}
      },
      "source": [
        "page(2)"
      ],
      "execution_count": 0,
      "outputs": []
    },
    {
      "cell_type": "markdown",
      "metadata": {
        "id": "_2uXQpJoA7Vq",
        "colab_type": "text"
      },
      "source": [
        "A Python 'for' loop uses the form: <br><br>\n",
        "\n",
        "for iterating_var in sequence: <br>\n",
        ">   statements(s)\n"
      ]
    },
    {
      "cell_type": "code",
      "metadata": {
        "id": "fHRltgUW-LKD",
        "colab_type": "code",
        "colab": {}
      },
      "source": [
        "for letter in 'Python':   \n",
        "   print ('Current Letter :', letter)"
      ],
      "execution_count": 0,
      "outputs": []
    },
    {
      "cell_type": "markdown",
      "metadata": {
        "id": "XO9aI9ngBLgV",
        "colab_type": "text"
      },
      "source": [
        "# **Assignment #1**\n",
        "\n",
        "Write a program to do the following: \n",
        "1. For every letter in your name,\n",
        "> print (\"letter is \", letter)"
      ]
    },
    {
      "cell_type": "code",
      "metadata": {
        "id": "RSuvbTg3-LL5",
        "colab_type": "code",
        "colab": {}
      },
      "source": [
        "#Assignment #1\n",
        "\n",
        "#TODO"
      ],
      "execution_count": 0,
      "outputs": []
    }
  ]
}