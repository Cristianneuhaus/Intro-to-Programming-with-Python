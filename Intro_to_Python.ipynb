{
  "nbformat": 4,
  "nbformat_minor": 0,
  "metadata": {
    "colab": {
      "name": "Intro to Python.ipynb",
      "provenance": [],
      "private_outputs": true,
      "include_colab_link": true
    },
    "kernelspec": {
      "name": "python3",
      "display_name": "Python 3"
    }
  },
  "cells": [
    {
      "cell_type": "markdown",
      "metadata": {
        "id": "view-in-github",
        "colab_type": "text"
      },
      "source": [
        "<a href=\"https://colab.research.google.com/github/cagBRT/Intro-to-Programming-with-Python/blob/master/Intro_to_Python.ipynb\" target=\"_parent\"><img src=\"https://colab.research.google.com/assets/colab-badge.svg\" alt=\"Open In Colab\"/></a>"
      ]
    },
    {
      "cell_type": "code",
      "metadata": {
        "id": "NG_bC5qLDIdI",
        "colab_type": "code",
        "colab": {}
      },
      "source": [
        "# Clone the entire repo.\n",
        "!git clone -l -s https://github.com/cagBRT/Intro-to-Programming-with-Python.git cloned-repo\n",
        "%cd cloned-repo\n",
        "!ls\n"
      ],
      "execution_count": 0,
      "outputs": []
    },
    {
      "cell_type": "markdown",
      "metadata": {
        "id": "x7u-ofjQI0l5",
        "colab_type": "text"
      },
      "source": [
        "# **Introduction to Machine Learning Programming with Python**"
      ]
    },
    {
      "cell_type": "markdown",
      "metadata": {
        "id": "Ia07M95OwEX7",
        "colab_type": "text"
      },
      "source": [
        "Python offers concise and readable code. While complex algorithms and versatile workflows stand behind machine learning and AI, Python's simplicity allows developers to write reliable systems. Developers get to put all their effort into solving an ML problem instead of focusing on the technical nuances of the language."
      ]
    },
    {
      "cell_type": "code",
      "metadata": {
        "id": "2p3XCkuwIvY7",
        "colab_type": "code",
        "colab": {}
      },
      "source": [
        "#Print a string\n",
        "print(\"hello world!\")"
      ],
      "execution_count": 0,
      "outputs": []
    },
    {
      "cell_type": "code",
      "metadata": {
        "id": "8dSd5_oKJR0G",
        "colab_type": "code",
        "colab": {}
      },
      "source": [
        "#Always use comments to explain how your program works. \n",
        "#Comments begin with a hashtag. \n",
        "\n",
        "#TODO - when you see TODO - that is where you are to add code. "
      ],
      "execution_count": 0,
      "outputs": []
    },
    {
      "cell_type": "markdown",
      "metadata": {
        "id": "_MdQdSKzMMqB",
        "colab_type": "text"
      },
      "source": [
        "Python was designed to be very easy to read.<br> \n",
        "Your code should be easy to read. "
      ]
    },
    {
      "cell_type": "markdown",
      "metadata": {
        "id": "92boKm1MEOEl",
        "colab_type": "text"
      },
      "source": [
        "# Variables"
      ]
    },
    {
      "cell_type": "markdown",
      "metadata": {
        "id": "fOwPNAuZMZPd",
        "colab_type": "text"
      },
      "source": [
        "Variables are containers for storing data values. "
      ]
    },
    {
      "cell_type": "code",
      "metadata": {
        "id": "y1rVfWFpLp_H",
        "colab_type": "code",
        "colab": {}
      },
      "source": [
        "#Assign variables\n",
        "first_name = \"John\"\n",
        "last_name = \"Deere\"\n",
        "print(first_name, last_name)"
      ],
      "execution_count": 0,
      "outputs": []
    },
    {
      "cell_type": "markdown",
      "metadata": {
        "id": "FrAgqakRNSpy",
        "colab_type": "text"
      },
      "source": [
        "# **Assignment #1**\n",
        "1. Add a comment line listing your name, and the assignment number. \n",
        "2. Assign the variable first_name the value of your first name<br>\n",
        "3. Assign the variable last_name the value of your last name<br>\n",
        "4. Print the variables on the same line. <br>"
      ]
    },
    {
      "cell_type": "code",
      "metadata": {
        "id": "Qw9CGcwZOEVe",
        "colab_type": "code",
        "colab": {}
      },
      "source": [
        "#Add comment and variables\n",
        "#Print name\n",
        "#TODO"
      ],
      "execution_count": 0,
      "outputs": []
    },
    {
      "cell_type": "markdown",
      "metadata": {
        "id": "WVf7WE2oOGeA",
        "colab_type": "text"
      },
      "source": [
        "Variable names are case-sensitive\n",
        "firstName is a different variable than FirstName"
      ]
    },
    {
      "cell_type": "code",
      "metadata": {
        "id": "zcOXKKmVOUvI",
        "colab_type": "code",
        "colab": {}
      },
      "source": [
        "#Variable names are case sensitive\n",
        "first_name = \"Cali\"\n",
        "First_Name = \"Janice\"\n",
        "print(first_name)\n",
        "print(First_Name)"
      ],
      "execution_count": 0,
      "outputs": []
    },
    {
      "cell_type": "markdown",
      "metadata": {
        "id": "ySFRluvOOs-o",
        "colab_type": "text"
      },
      "source": [
        "# **Assignment #2**\n",
        "Create two variables: last_name, Last_Name<br>\n",
        "Assign the variables values<br>\n",
        "Print the variables on separate lines. <br>"
      ]
    },
    {
      "cell_type": "code",
      "metadata": {
        "id": "hRAoAYr3PUpp",
        "colab_type": "code",
        "colab": {}
      },
      "source": [
        "#Capitalization matters\n",
        "\n",
        "#TODO"
      ],
      "execution_count": 0,
      "outputs": []
    },
    {
      "cell_type": "markdown",
      "metadata": {
        "id": "3O0PXaO6PV7B",
        "colab_type": "text"
      },
      "source": [
        "#Use the internet when programming!\n",
        "When programming, the internet is your friend. <br>\n",
        "Lots of Pythn code is available online. <br>\n",
        "1. When searching the internet, write Python first<br>\n",
        "For example: \"python assign multiple variables on one line\"\n",
        "2. Look at the results, usually the first one or two will tell you how to create multiple variables on the same line. "
      ]
    },
    {
      "cell_type": "markdown",
      "metadata": {
        "id": "NKRoxiBnMHIj",
        "colab_type": "text"
      },
      "source": [
        "**For learning Python try**: \n",
        "\n",
        "\n",
        "*   [https://www.w3schools.com/python/python_operators.asp](https://www.w3schools.com/python/python_operators.asp)\n",
        "<br><br>\n",
        "\n",
        "**For looking for particular code solutions try**: \n",
        "\n",
        "*   Stack Overlow\n",
        "<br><br>\n",
        "\n",
        "**For Python coding standards try: bold text**\n",
        "\n",
        "\n",
        "*   http://google.github.io/styleguide/pyguide.html\n",
        "*   https://sphinxcontrib-napoleon.readthedocs.io/en/latest/example_google.html\n",
        "\n",
        "\n",
        "\n",
        "\n",
        "\n",
        "\n"
      ]
    },
    {
      "cell_type": "markdown",
      "metadata": {
        "id": "k40h1u9YQl13",
        "colab_type": "text"
      },
      "source": [
        "# **Assignment #3**\n",
        "Create and assign three variables on one line. <br>\n",
        "Print out the variable values.\n",
        "\n",
        "*   A variable name must start with a letter or the underscore character\n",
        "*   A variable name cannot start with a number\n",
        "\n",
        "*   A variable name can only contain alpha-numeric characters and underscores (A-z, 0-9, and _ )\n",
        "*   Variable names are case-sensitive (age, Age and AGE are three different variables)\n"
      ]
    },
    {
      "cell_type": "code",
      "metadata": {
        "id": "JGgwXg8DRBIo",
        "colab_type": "code",
        "colab": {}
      },
      "source": [
        "#Search the internet to find the answer\n",
        "\n",
        "#TODO"
      ],
      "execution_count": 0,
      "outputs": []
    },
    {
      "cell_type": "markdown",
      "metadata": {
        "id": "k9p_4UHQRNEf",
        "colab_type": "text"
      },
      "source": [
        "Print the variable name and the value in the form: <br>\n",
        "variableName = value <br>\n"
      ]
    },
    {
      "cell_type": "code",
      "metadata": {
        "id": "rF68R6cIRl_P",
        "colab_type": "code",
        "colab": {}
      },
      "source": [
        "#Example of writing the variableName and the value\n",
        "variable1 = 'Paul'\n",
        "variable2 = 'Bunyon'\n",
        "\n",
        "#print a string then the value of the variable\n",
        "print(\"variable1 = \" , variable1)\n",
        "print(\"variable2 = \" , variable2)"
      ],
      "execution_count": 0,
      "outputs": []
    },
    {
      "cell_type": "markdown",
      "metadata": {
        "id": "DnfW331iS2w3",
        "colab_type": "text"
      },
      "source": [
        "# **Assignment #4**\n",
        "Create and assign values to two variables<br>\n",
        "Print out the variable names and values."
      ]
    },
    {
      "cell_type": "code",
      "metadata": {
        "id": "uO7l_lQv9vpP",
        "colab_type": "code",
        "colab": {}
      },
      "source": [
        "#Print a string and a variable value\n",
        "\n",
        "#TODO"
      ],
      "execution_count": 0,
      "outputs": []
    },
    {
      "cell_type": "markdown",
      "metadata": {
        "id": "pKQbUwTPTJp5",
        "colab_type": "text"
      },
      "source": [
        "Variables can be strings: <br>\n",
        "\n",
        "\n",
        "> name = \"Blue River\"<br>\n",
        "\n",
        "\n",
        "\n",
        "Variables can also be numbers:<br>\n",
        "\n",
        "\n",
        ">   length = 6<br>\n",
        "  width = 4.5\n",
        "\n"
      ]
    },
    {
      "cell_type": "markdown",
      "metadata": {
        "id": "wnuGVmtLUWpD",
        "colab_type": "text"
      },
      "source": [
        "Number variables can be: \n",
        "\n",
        "\n",
        "> Integers (which are whole numbers)\n",
        "\n",
        "\n",
        "> Floating Point Numbers (which are real numbers)\n",
        "\n",
        "\n",
        "\n"
      ]
    },
    {
      "cell_type": "code",
      "metadata": {
        "id": "mMprazYaUuyR",
        "colab_type": "code",
        "colab": {}
      },
      "source": [
        "#Assigning integer variables\n",
        "number_of_customers = 65\n",
        "number_of_shopping_carts = 60\n",
        "print(number_of_customers, number_of_shopping_carts)"
      ],
      "execution_count": 0,
      "outputs": []
    },
    {
      "cell_type": "code",
      "metadata": {
        "id": "5z771zx1VUcW",
        "colab_type": "code",
        "colab": {}
      },
      "source": [
        "#Assigning float variables\n",
        "mpg = 24.5\n",
        "miles = 100.5\n",
        "print(mpg, miles)"
      ],
      "execution_count": 0,
      "outputs": []
    },
    {
      "cell_type": "markdown",
      "metadata": {
        "id": "miTOcS4eV68w",
        "colab_type": "text"
      },
      "source": [
        "# **Assignment #5**\n",
        "Create two integer variables.<br>\n",
        "Create two float variables<br>\n",
        "Print out the variable names and values."
      ]
    },
    {
      "cell_type": "code",
      "metadata": {
        "id": "jeNcIiSdWSEf",
        "colab_type": "code",
        "colab": {}
      },
      "source": [
        "#Print int and float variable names and values"
      ],
      "execution_count": 0,
      "outputs": []
    },
    {
      "cell_type": "markdown",
      "metadata": {
        "id": "CGFrEZOqVxuu",
        "colab_type": "text"
      },
      "source": [
        "You can add strings or numbers using the '+\" sign. "
      ]
    },
    {
      "cell_type": "code",
      "metadata": {
        "id": "T0dUm_zbV59D",
        "colab_type": "code",
        "colab": {}
      },
      "source": [
        "#Add two Python strings\n",
        "first_statement = \"I want to go to the movies\"\n",
        "second_statement = \"tonight\"\n",
        "#Print the two variables side by side\n",
        "print(first_statement, second_statement)\n",
        "#Add the two variables and make a new variable\n",
        "complete_statement = first_statement + second_statement\n",
        "print(complete_statement)"
      ],
      "execution_count": 0,
      "outputs": []
    },
    {
      "cell_type": "markdown",
      "metadata": {
        "id": "aGfaidgSXMQR",
        "colab_type": "text"
      },
      "source": [
        "# **Assignment #6**\n",
        "When the two string variables are added together, there is no space between them. <br>\n",
        "Rewrite the code to add a space between \"movies\" and \"tonight\" in completeStatement variable. "
      ]
    },
    {
      "cell_type": "code",
      "metadata": {
        "id": "ncbpUujrXxOa",
        "colab_type": "code",
        "colab": {}
      },
      "source": [
        "#Add a space between two string variables"
      ],
      "execution_count": 0,
      "outputs": []
    },
    {
      "cell_type": "markdown",
      "metadata": {
        "id": "J0hyHwPt-s2s",
        "colab_type": "text"
      },
      "source": [
        "String variables can be only be added (also called concatenated).<br>\n",
        "Any other math function will produce an error."
      ]
    },
    {
      "cell_type": "code",
      "metadata": {
        "id": "Fc3Havab_AE1",
        "colab_type": "code",
        "colab": {}
      },
      "source": [
        "#Strings can only be concatenated\n",
        "string1 = \"hello\"\n",
        "string2 = \"bye\"\n",
        "string3 = string1 + \" \" + string2\n",
        "#The next line will produce an error\n",
        "string4 = string1 - string2"
      ],
      "execution_count": 0,
      "outputs": []
    },
    {
      "cell_type": "markdown",
      "metadata": {
        "id": "nSUf1fSjEXis",
        "colab_type": "text"
      },
      "source": [
        "# Operators"
      ]
    },
    {
      "cell_type": "markdown",
      "metadata": {
        "id": "6lQJcW_N__li",
        "colab_type": "text"
      },
      "source": [
        "Python has a number of arithmetic operators. <br>"
      ]
    },
    {
      "cell_type": "code",
      "metadata": {
        "id": "_DkDdl0KDXZv",
        "colab_type": "code",
        "colab": {}
      },
      "source": [
        "from IPython.display import Image\n",
        "Image(\"PythonArithmeticOperators.png\", width=800)"
      ],
      "execution_count": 0,
      "outputs": []
    },
    {
      "cell_type": "code",
      "metadata": {
        "id": "2odORhY-Nb7Y",
        "colab_type": "code",
        "colab": {}
      },
      "source": [
        "#demonstrate the arithmetic operators\n",
        "integer1 = 4\n",
        "integer2 = 3\n",
        "\n",
        "sum = integer1 + integer2\n",
        "difference = integer1 - integer2\n",
        "product = integer1 * integer2\n",
        "div = integer1 / integer2\n",
        "mod = integer1 % integer2\n",
        "exponent = integer1 ** integer2\n",
        "floor = integer1 // integer2\n",
        "\n",
        "print(\"sum = \", sum)\n",
        "print(\"difference = \", difference)\n",
        "print(\"product = \", product)\n",
        "print(\"div = \", div)\n",
        "print(\"mod = \", mod)\n",
        "print(\"exponent = \", exponent)\n",
        "print(\"floor = \", floor)"
      ],
      "execution_count": 0,
      "outputs": []
    },
    {
      "cell_type": "markdown",
      "metadata": {
        "id": "mF1zBdqzPGvK",
        "colab_type": "text"
      },
      "source": [
        "# **Assignment #7**\n",
        " Write a program that calculates and prints the area of triangle. <br>\n",
        " The triangle has:\n",
        " base = 12<br>\n",
        " height = 32<br>\n",
        "\n",
        " The area of a triangle is A = 1/2(base * height)\n",
        "\n",
        "The output should have the following format:<br> \n",
        "The area of the triangle is: ##"
      ]
    },
    {
      "cell_type": "code",
      "metadata": {
        "id": "pRgcxgPcN4sD",
        "colab_type": "code",
        "colab": {}
      },
      "source": [
        "#Assignment #5\n",
        "#Caluculate the area of a triangle\n",
        "#TODO\n"
      ],
      "execution_count": 0,
      "outputs": []
    },
    {
      "cell_type": "markdown",
      "metadata": {
        "id": "GfNMO7MyQ1W0",
        "colab_type": "text"
      },
      "source": [
        "Python has a number of assignment operators <br>\n",
        "Assignment operators are used to assign values to variables. <br>\n"
      ]
    },
    {
      "cell_type": "code",
      "metadata": {
        "id": "vagRaxI6TMh5",
        "colab_type": "code",
        "colab": {}
      },
      "source": [
        "from IPython.display import Image\n",
        "Image(\"AssignmentOperators.png\", width=800)"
      ],
      "execution_count": 0,
      "outputs": []
    },
    {
      "cell_type": "code",
      "metadata": {
        "id": "_01hNLG6UrH_",
        "colab_type": "code",
        "colab": {}
      },
      "source": [
        "#Show that the arithmetic operator and the assignment operator\n",
        "#produce the same values\n",
        "x = 7\n",
        "x *= 3\n",
        "print(\"x *= 3 \",x)\n",
        "\n",
        "x = 7\n",
        "x = x * 3\n",
        "print(\"x * 3 =\",x)"
      ],
      "execution_count": 0,
      "outputs": []
    },
    {
      "cell_type": "markdown",
      "metadata": {
        "id": "NjLor84USULZ",
        "colab_type": "text"
      },
      "source": [
        "# **Assignment #8**\n",
        "Write a program to demonstrate that the arithmetic operations produce the same values as the assignment operators. <br>\n",
        "For example: <br>\n",
        "\n"
      ]
    },
    {
      "cell_type": "code",
      "metadata": {
        "id": "WWuvuF6P3CXz",
        "colab_type": "code",
        "colab": {}
      },
      "source": [
        "#Assignment 8\n",
        "#TODO"
      ],
      "execution_count": 0,
      "outputs": []
    },
    {
      "cell_type": "code",
      "metadata": {
        "id": "NUln45B6D9jg",
        "colab_type": "code",
        "colab": {}
      },
      "source": [
        ""
      ],
      "execution_count": 0,
      "outputs": []
    },
    {
      "cell_type": "markdown",
      "metadata": {
        "id": "sbvPpeqw_1ZT",
        "colab_type": "text"
      },
      "source": [
        "Variables can also be True/False values (also called Boolean values). <br>\n",
        "Boolean values can be True or False. <br>\n",
        "They are often used with comparison, logical, and identity operators. "
      ]
    },
    {
      "cell_type": "markdown",
      "metadata": {
        "id": "eLDEYYXAD4Su",
        "colab_type": "text"
      },
      "source": [
        "# Comparison operators"
      ]
    },
    {
      "cell_type": "code",
      "metadata": {
        "id": "hST_y4aqCg9B",
        "colab_type": "code",
        "colab": {}
      },
      "source": [
        "from IPython.display import Image\n",
        "Image(\"comparisonOperators.png\", width=800)"
      ],
      "execution_count": 0,
      "outputs": []
    },
    {
      "cell_type": "code",
      "metadata": {
        "id": "Y2UicGGFEi_6",
        "colab_type": "code",
        "colab": {}
      },
      "source": [
        "x = 9\n",
        "y = 9\n",
        "z = (x==y)\n",
        "print(z)\n",
        "\n",
        "w = 9.0\n",
        "print(x==w)\n",
        "\n",
        "v = 9.5\n",
        "print(x==v)"
      ],
      "execution_count": 0,
      "outputs": []
    },
    {
      "cell_type": "markdown",
      "metadata": {
        "id": "Tu82y6dLE3Ke",
        "colab_type": "text"
      },
      "source": [
        "# **Assignment #9**\n",
        "Write a program that produces a True then a False value for each logical opeator. <br>\n",
        "\n"
      ]
    },
    {
      "cell_type": "code",
      "metadata": {
        "id": "UIN9s_sGFen2",
        "colab_type": "code",
        "colab": {}
      },
      "source": [
        "#Assignment #9\n",
        "#TODO comparison operators"
      ],
      "execution_count": 0,
      "outputs": []
    },
    {
      "cell_type": "markdown",
      "metadata": {
        "id": "uqwOWrhkECSx",
        "colab_type": "text"
      },
      "source": [
        "# Logical operators"
      ]
    },
    {
      "cell_type": "code",
      "metadata": {
        "id": "PutrSh13DMsV",
        "colab_type": "code",
        "colab": {}
      },
      "source": [
        "from IPython.display import Image\n",
        "Image(\"LogicalOperators.png\", width=800)"
      ],
      "execution_count": 0,
      "outputs": []
    },
    {
      "cell_type": "markdown",
      "metadata": {
        "id": "RPJcV9NsEIJ1",
        "colab_type": "text"
      },
      "source": [
        "# Identity operators"
      ]
    },
    {
      "cell_type": "code",
      "metadata": {
        "id": "C_HBMgdFDhe1",
        "colab_type": "code",
        "colab": {}
      },
      "source": [
        "from IPython.display import Image\n",
        "Image(\"IdentityOperators.png\", width=800)"
      ],
      "execution_count": 0,
      "outputs": []
    }
  ]
}