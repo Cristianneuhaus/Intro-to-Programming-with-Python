{
  "nbformat": 4,
  "nbformat_minor": 0,
  "metadata": {
    "colab": {
      "name": "C3 IntroToMLProgramming.ipynb",
      "provenance": [],
      "private_outputs": true,
      "toc_visible": true
    },
    "kernelspec": {
      "name": "python3",
      "display_name": "Python 3"
    }
  },
  "cells": [
    {
      "cell_type": "markdown",
      "metadata": {
        "id": "GEFERGOX1w8Z",
        "colab_type": "text"
      },
      "source": [
        "There are times when you will want to store a series of data points as a single variable. <br>\n",
        "For example: <br>\n",
        "\n",
        "You have 3 students in one group and 2 students in another group. <br>\n",
        "Sometomes it would be nice to treat a group as a single variable. <br>\n",
        "You can use arrays to do this. <br>\n",
        "For example: <br>\n",
        "group1 = [\"Joe\",\"Susan\",\"Bob\"] <br>\n",
        "group2 = [\"Tommy\",\"Chandler\"]<br>\n",
        "\n",
        "<br>group1 is an array with 3 elements. <br>\n",
        "group2 is an array with 2 elements. \n",
        "\n",
        "<br>When you have a lot of data, arrays can make working with the data a lot easier. "
      ]
    },
    {
      "cell_type": "markdown",
      "metadata": {
        "id": "qHImY66tzzxB",
        "colab_type": "text"
      },
      "source": [
        "# Data Collections (Arrays)\n",
        "\n",
        "Python does not have arrays. <br>\n",
        "Python has lists - which can be used like arrays.<br>\n"
      ]
    },
    {
      "cell_type": "markdown",
      "metadata": {
        "id": "VrzIPC7huIko",
        "colab_type": "text"
      },
      "source": [
        "## ADD SLIDES ON LISTS\n",
        "start at 0, length is one more than last index value"
      ]
    },
    {
      "cell_type": "markdown",
      "metadata": {
        "id": "KdPzMt3KPV-O",
        "colab_type": "text"
      },
      "source": [
        "# Lists<br>\n",
        "Lists are a collection of variables that are ordered and changeable. <br>\n"
      ]
    },
    {
      "cell_type": "markdown",
      "metadata": {
        "id": "pY15MUFuRJpM",
        "colab_type": "text"
      },
      "source": [
        "To fully appreciate the power of lists, let's look at how to do a sorting task without lists.<br>\n",
        "Write code to sort the 5 variables from lowest number to highest number. "
      ]
    },
    {
      "cell_type": "code",
      "metadata": {
        "id": "zVo__yj-RinX",
        "colab_type": "code",
        "colab": {}
      },
      "source": [
        "#Create the variables\n",
        "score1 = 96\n",
        "score2 = 88\n",
        "score3 = 97\n",
        "score4 = 99\n",
        "score5 = 76"
      ],
      "execution_count": 0,
      "outputs": []
    },
    {
      "cell_type": "code",
      "metadata": {
        "id": "OG4IJIqQS1cR",
        "colab_type": "code",
        "colab": {}
      },
      "source": [
        "#write code to put the scores in numerical order\n",
        "if score1 > score2:\n",
        "  temp = score1\n",
        "  score1 = score2\n",
        "  score2 = temp\n",
        "\n",
        "if score1 > score3:\n",
        "  temp = score1\n",
        "  score1 = score3\n",
        "  score3 = temp\n",
        "\n",
        "if score1 > score4:\n",
        "  temp = score1\n",
        "  score1 = score4\n",
        "  score4 = temp\n",
        "\n",
        "if score1 > score5:\n",
        "  temp = score1\n",
        "  score1 = score5\n",
        "  score5 = temp\n",
        "\n",
        "#---\n",
        "\n",
        "if score2 > score3:\n",
        "  temp = score2\n",
        "  score2 = score3\n",
        "  score3 = temp\n",
        "\n",
        "if score2 > score4:\n",
        "  temp = score2\n",
        "  score2 = score4\n",
        "  score4 = temp\n",
        "\n",
        "if score2 > score5:\n",
        "  temp = score2\n",
        "  score2 = score5\n",
        "  score5 = temp\n",
        "\n",
        "#---\n",
        "\n",
        "if score3 > score4:\n",
        "  temp = score3\n",
        "  score3 = score4\n",
        "  score4 = temp\n",
        "\n",
        "if score3 > score5:\n",
        "  temp = score3\n",
        "  score3 = score5\n",
        "  score5 = temp\n",
        "\n",
        "#---\n",
        "\n",
        "if score4 > score5:\n",
        "  temp = score4\n",
        "  score4 = score5\n",
        "  score5 = temp\n",
        "\n",
        "#---\n",
        "print(score1)\n",
        "print(score2)\n",
        "print(score3)\n",
        "print(score4)\n",
        "print(score5)"
      ],
      "execution_count": 0,
      "outputs": []
    },
    {
      "cell_type": "markdown",
      "metadata": {
        "id": "I9mJoC8phWo1",
        "colab_type": "text"
      },
      "source": [
        "Sorting the numbers takes a fair amount of coding. If another number is added to the list, the program would have to be modified quite a bit to accommodate the new variable. <br>\n",
        "<br>\n",
        "Let's use a Python list to put the variables in numerical order. "
      ]
    },
    {
      "cell_type": "markdown",
      "metadata": {
        "id": "-djOs4B0nOcz",
        "colab_type": "text"
      },
      "source": [
        "1. create the list using the form:<br>\n",
        "      list_name = [value, value, value, value,..., value, value]<br>\n",
        "      For example: cat_names = [\"Belle\",\"Callie\",\"Bootsie\",\"Spot\"]<br>\n",
        "\n",
        "2. Sort the list using the method sort()<br>\n",
        "      For example: cat_names.sort()"
      ]
    },
    {
      "cell_type": "code",
      "metadata": {
        "id": "KKNmg5sgh_Zi",
        "colab_type": "code",
        "colab": {}
      },
      "source": [
        "#Create a list\n",
        "score = [96,88,97,99,76]\n",
        "\n",
        "#sort the list into numerical order\n",
        "score.sort()\n",
        "print(score)"
      ],
      "execution_count": 0,
      "outputs": []
    },
    {
      "cell_type": "markdown",
      "metadata": {
        "id": "E32m-37UizJw",
        "colab_type": "text"
      },
      "source": [
        "# **Assignment #1**\n",
        "\n",
        "> Indented block\n",
        "\n",
        "\n",
        "1. Create a list called grades with the following values: \n",
        "2,43,76,98,10,33,25,37,44,33,100,1,90,23, 27, 11\n",
        "2. Print the list."
      ]
    },
    {
      "cell_type": "code",
      "metadata": {
        "id": "GyxccAnqmhR2",
        "colab_type": "code",
        "colab": {}
      },
      "source": [
        "#Create a list with the following values: \n",
        "#2,43,76,98,10,33,25,37,44,33,100,1,90,23, 27, 11\n",
        "#TODO"
      ],
      "execution_count": 0,
      "outputs": []
    },
    {
      "cell_type": "markdown",
      "metadata": {
        "id": "CHQvZT4TmpYg",
        "colab_type": "text"
      },
      "source": [
        "# **Assignment #2**\n",
        "1. Sort the list called grades from lowest to highest number\n",
        "2. Print the list"
      ]
    },
    {
      "cell_type": "code",
      "metadata": {
        "colab_type": "code",
        "id": "pDnuhr7_m4GY",
        "colab": {}
      },
      "source": [
        "#Sort the list called grades\n",
        "#TODO"
      ],
      "execution_count": 0,
      "outputs": []
    },
    {
      "cell_type": "markdown",
      "metadata": {
        "id": "DHCasCEvnCsw",
        "colab_type": "text"
      },
      "source": [
        "Python lists have a number of built in methods. <br>\n",
        "There is no need to memorize the built in methods, because.... we have the internet!<br>\n",
        "Go to [this link](https://www.w3schools.com/python/python_ref_list.asp) to see the methods for lists. "
      ]
    },
    {
      "cell_type": "markdown",
      "metadata": {
        "id": "e5iwsTZ4rjwd",
        "colab_type": "text"
      },
      "source": [
        "# **Assignment #3**\n",
        "1. Create a list with 10 float values. \n",
        "2. Sort the list in ascending order. \n",
        "3. Sort the list in descending order. \n",
        "4. Print the list."
      ]
    },
    {
      "cell_type": "code",
      "metadata": {
        "id": "OpZvIRF5sL90",
        "colab_type": "code",
        "colab": {}
      },
      "source": [
        "#Create a list of floats\n",
        "#Sort in ascending order\n",
        "#Then sort in descending order\n",
        "#TODO"
      ],
      "execution_count": 0,
      "outputs": []
    },
    {
      "cell_type": "markdown",
      "metadata": {
        "id": "pOX8BkM6sXm6",
        "colab_type": "text"
      },
      "source": [
        "# **Assignment #4**\n",
        "1. Create a list of 10 states names. \n",
        "2. Print the list.\n",
        "3. Delete the state name in the 5th position in the list. Remember lists start with position 0. \n",
        "4. Print the list.\n",
        "5. Add Hawaii to the end of the list. "
      ]
    },
    {
      "cell_type": "code",
      "metadata": {
        "id": "-fuz4CsQtEoK",
        "colab_type": "code",
        "colab": {}
      },
      "source": [
        "\n",
        "#1. Create a list of 10 states names. \n",
        "#2. Print the list.\n",
        "#3. Delete the state name in the 5th position in the list. Remember lists start with position 0. \n",
        "#4. Print the list.\n",
        "#5. Add Hawaii to the end of the list.\n",
        "#TODO "
      ],
      "execution_count": 0,
      "outputs": []
    }
  ]
}