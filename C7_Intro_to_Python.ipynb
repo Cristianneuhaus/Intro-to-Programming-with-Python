{
  "nbformat": 4,
  "nbformat_minor": 0,
  "metadata": {
    "colab": {
      "name": "C7 Intro to Python.ipynb",
      "provenance": [],
      "private_outputs": true,
      "collapsed_sections": [],
      "include_colab_link": true
    },
    "kernelspec": {
      "name": "python3",
      "display_name": "Python 3"
    }
  },
  "cells": [
    {
      "cell_type": "markdown",
      "metadata": {
        "id": "view-in-github",
        "colab_type": "text"
      },
      "source": [
        "<a href=\"https://colab.research.google.com/github/cagBRT/Intro-to-Programming-with-Python/blob/master/C7_Intro_to_Python.ipynb\" target=\"_parent\"><img src=\"https://colab.research.google.com/assets/colab-badge.svg\" alt=\"Open In Colab\"/></a>"
      ]
    },
    {
      "cell_type": "code",
      "metadata": {
        "id": "YxtF92RT1CyW",
        "colab_type": "code",
        "colab": {}
      },
      "source": [
        "# Clone the entire repo.\n",
        "!git clone -l -s https://github.com/cagBRT/Intro-to-Programming-with-Python.git cloned-repo\n",
        "%cd cloned-repo\n",
        "!ls"
      ],
      "execution_count": 0,
      "outputs": []
    },
    {
      "cell_type": "code",
      "metadata": {
        "id": "aEOOgj8S9GSm",
        "colab_type": "code",
        "colab": {}
      },
      "source": [
        "from IPython.display import Image\n",
        "def page(num):\n",
        "    return Image(\"c7-content/c7PythonProgramming\"+str(num)+ \".png\" , width=640)"
      ],
      "execution_count": 0,
      "outputs": []
    },
    {
      "cell_type": "markdown",
      "metadata": {
        "id": "JG4_Kb0a1GGa",
        "colab_type": "text"
      },
      "source": [
        "# **Interacting with Files**"
      ]
    },
    {
      "cell_type": "markdown",
      "metadata": {
        "id": "55S0rYXN-KTF",
        "colab_type": "text"
      },
      "source": [
        "# **Reading CSV Files**\n",
        "\n",
        "https://people.sc.fsu.edu/~jburkardt/data/csv/csv.html\n",
        "\n",
        "\n",
        "CSV = Comma Separated Values<br>\n",
        "For example: <br>\n",
        ">John,Doe,120 jefferson st.,Riverside, NJ, 08075<br>\n",
        "\n",
        "This is an example of a line from a CSV file. <br>\n",
        "The each value is separated by a comma. \n",
        "This file has 6 values on each row. "
      ]
    },
    {
      "cell_type": "markdown",
      "metadata": {
        "id": "oJLBHoE-_DWf",
        "colab_type": "text"
      },
      "source": [
        "**Python Imports**<br>\n",
        "Python has many libraries that are can help you code. <br>\n",
        "Libraries are collections of functions related to a single topic. <br>\n",
        "For example:\n",
        "> Python's csv library has functions for reading CSV files. "
      ]
    },
    {
      "cell_type": "markdown",
      "metadata": {
        "id": "50FgcTXj_bcR",
        "colab_type": "text"
      },
      "source": [
        "To use a library you need to import it. "
      ]
    },
    {
      "cell_type": "code",
      "metadata": {
        "id": "6TpfsrQX_BPG",
        "colab_type": "code",
        "colab": {}
      },
      "source": [
        "import csv\n",
        "print(\"done\")"
      ],
      "execution_count": 0,
      "outputs": []
    },
    {
      "cell_type": "markdown",
      "metadata": {
        "id": "K5M8fyKl_zYQ",
        "colab_type": "text"
      },
      "source": [
        "Now you can use the csv library to interact with csv files.<br>\n",
        "[csv library](https://docs.python.org/3/library/csv.html) "
      ]
    },
    {
      "cell_type": "code",
      "metadata": {
        "id": "OUBey1-j_uoy",
        "colab_type": "code",
        "colab": {}
      },
      "source": [
        ""
      ],
      "execution_count": 0,
      "outputs": []
    }
  ]
}