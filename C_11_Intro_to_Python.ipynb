{
  "nbformat": 4,
  "nbformat_minor": 0,
  "metadata": {
    "colab": {
      "name": "C 11 Intro to Python.ipynb",
      "provenance": [],
      "private_outputs": true,
      "authorship_tag": "ABX9TyMjsKwdrKeswDT2Edqi0Bxg",
      "include_colab_link": true
    },
    "kernelspec": {
      "name": "python3",
      "display_name": "Python 3"
    }
  },
  "cells": [
    {
      "cell_type": "markdown",
      "metadata": {
        "id": "view-in-github",
        "colab_type": "text"
      },
      "source": [
        "<a href=\"https://colab.research.google.com/github/cagBRT/Intro-to-Programming-with-Python/blob/master/C_11_Intro_to_Python.ipynb\" target=\"_parent\"><img src=\"https://colab.research.google.com/assets/colab-badge.svg\" alt=\"Open In Colab\"/></a>"
      ]
    },
    {
      "cell_type": "markdown",
      "metadata": {
        "id": "mH8y1xA5IX18",
        "colab_type": "text"
      },
      "source": [
        "# **Introduction to Seaborn**"
      ]
    },
    {
      "cell_type": "markdown",
      "metadata": {
        "id": "GNxwNykhFnva",
        "colab_type": "text"
      },
      "source": [
        "**Pre-requisites**: <br>\n",
        "* Matplotlib\n",
        "* Pandas\n",
        "* Numpy\n",
        "* Python"
      ]
    },
    {
      "cell_type": "markdown",
      "metadata": {
        "id": "NTvS4W_04Dcx",
        "colab_type": "text"
      },
      "source": [
        "Matplotlib is a 2D plotting library that allows you to create publication-quality figures. Seaborn,which is based on Matplotlib, provides a high-level interface to draw statistical graphics."
      ]
    },
    {
      "cell_type": "markdown",
      "metadata": {
        "id": "XcC7dsRlD1UE",
        "colab_type": "text"
      },
      "source": [
        "Seaborn helps resolve the two major problems faced by Matplotlib; the problems are −<br>\n",
        "\n",
        "Default Matplotlib parameters<br>\n",
        "Working with data frames<br>\n",
        "\n",
        "**Seaborn is specially designed for statistical plotting.**"
      ]
    },
    {
      "cell_type": "markdown",
      "metadata": {
        "id": "sg-kkcu7ECde",
        "colab_type": "text"
      },
      "source": [
        "Dependencies of Seaborn −\n",
        "\n",
        "Python <br>\n",
        "numpy<br>\n",
        "scipy<br>\n",
        "pandas<br>\n",
        "matplotlib<br>"
      ]
    },
    {
      "cell_type": "code",
      "metadata": {
        "id": "2CELpvTwD2i5",
        "colab_type": "code",
        "colab": {}
      },
      "source": [
        "import pandas as pd\n",
        "import numpy as np\n",
        "import matplotlib.pyplot as plt\n",
        "import seaborn as sb"
      ],
      "execution_count": 0,
      "outputs": []
    },
    {
      "cell_type": "markdown",
      "metadata": {
        "id": "23CmD3kjHGOp",
        "colab_type": "text"
      },
      "source": [
        "**List the Seaborn datasets** "
      ]
    },
    {
      "cell_type": "code",
      "metadata": {
        "id": "O6xL2mbxGms0",
        "colab_type": "code",
        "colab": {}
      },
      "source": [
        "#List the datasets that are included with seaborn\n",
        "sb.get_dataset_names()"
      ],
      "execution_count": 0,
      "outputs": []
    },
    {
      "cell_type": "markdown",
      "metadata": {
        "id": "G8wepB3oHAcq",
        "colab_type": "text"
      },
      "source": [
        "**Load a dataset from the Seaborn library**"
      ]
    },
    {
      "cell_type": "code",
      "metadata": {
        "id": "ugk18YhXEiDG",
        "colab_type": "code",
        "colab": {}
      },
      "source": [
        "df = sb.load_dataset('tips')\n",
        "print(df.head())"
      ],
      "execution_count": 0,
      "outputs": []
    },
    {
      "cell_type": "markdown",
      "metadata": {
        "id": "1BM4VI31HNO0",
        "colab_type": "text"
      },
      "source": [
        "# **Assignment 1**: \n",
        "Load the dots dataset from Seaborn"
      ]
    },
    {
      "cell_type": "code",
      "metadata": {
        "id": "PrWRDbEOErUV",
        "colab_type": "code",
        "colab": {}
      },
      "source": [
        ""
      ],
      "execution_count": 0,
      "outputs": []
    },
    {
      "cell_type": "code",
      "metadata": {
        "id": "A8Poty_pHuED",
        "colab_type": "code",
        "colab": {}
      },
      "source": [
        "def sinplot(flip = 1):\n",
        "   x = np.linspace(0, 14, 100)\n",
        "   for i in range(1, 5): \n",
        "      plt.plot(x, np.sin(x + i * .5) * (7 - i) * flip)\n",
        "sinplot()\n",
        "plt.show()"
      ],
      "execution_count": 0,
      "outputs": []
    },
    {
      "cell_type": "code",
      "metadata": {
        "id": "q8hEKv3_GJ-b",
        "colab_type": "code",
        "colab": {}
      },
      "source": [
        "def sinplot(multiplier = 4):\n",
        "   x = np.linspace(0, 14, 100)\n",
        "   for i in range(1, 5):\n",
        "      plt.plot(x, np.sin(x + i * .5) * (7 - i) * multiplier)\n",
        "\n",
        "sb.set()\n",
        "sinplot()\n",
        "plt.show()"
      ],
      "execution_count": 0,
      "outputs": []
    }
  ]
}