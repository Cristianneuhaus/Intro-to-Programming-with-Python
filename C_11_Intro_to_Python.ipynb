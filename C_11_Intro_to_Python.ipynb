{
  "nbformat": 4,
  "nbformat_minor": 0,
  "metadata": {
    "colab": {
      "name": "C 11 Intro to Python.ipynb",
      "provenance": [],
      "private_outputs": true,
      "authorship_tag": "ABX9TyOo841IPb2iYiM9aQm2R88z",
      "include_colab_link": true
    },
    "kernelspec": {
      "name": "python3",
      "display_name": "Python 3"
    }
  },
  "cells": [
    {
      "cell_type": "markdown",
      "metadata": {
        "id": "view-in-github",
        "colab_type": "text"
      },
      "source": [
        "<a href=\"https://colab.research.google.com/github/cagBRT/Intro-to-Programming-with-Python/blob/master/C_11_Intro_to_Python.ipynb\" target=\"_parent\"><img src=\"https://colab.research.google.com/assets/colab-badge.svg\" alt=\"Open In Colab\"/></a>"
      ]
    },
    {
      "cell_type": "markdown",
      "metadata": {
        "id": "mH8y1xA5IX18",
        "colab_type": "text"
      },
      "source": [
        "# **Introduction to Seaborn**"
      ]
    },
    {
      "cell_type": "markdown",
      "metadata": {
        "id": "GNxwNykhFnva",
        "colab_type": "text"
      },
      "source": [
        "**Pre-requisites**: <br>\n",
        "* Matplotlib\n",
        "* Pandas\n",
        "* Numpy\n",
        "* Python"
      ]
    },
    {
      "cell_type": "markdown",
      "metadata": {
        "id": "NTvS4W_04Dcx",
        "colab_type": "text"
      },
      "source": [
        "Matplotlib is a 2D plotting library that allows you to create publication-quality figures. Seaborn,which is based on Matplotlib, provides a high-level interface to draw statistical graphics."
      ]
    },
    {
      "cell_type": "markdown",
      "metadata": {
        "id": "XcC7dsRlD1UE",
        "colab_type": "text"
      },
      "source": [
        "Seaborn helps resolve the two major problems faced by Matplotlib; the problems are −<br>\n",
        "\n",
        "Default Matplotlib parameters<br>\n",
        "Working with data frames<br>\n",
        "\n",
        "**Seaborn is specially designed for statistical plotting.**"
      ]
    },
    {
      "cell_type": "markdown",
      "metadata": {
        "id": "sg-kkcu7ECde",
        "colab_type": "text"
      },
      "source": [
        "Dependencies of Seaborn −\n",
        "\n",
        "Python <br>\n",
        "numpy<br>\n",
        "scipy<br>\n",
        "pandas<br>\n",
        "matplotlib<br>"
      ]
    },
    {
      "cell_type": "code",
      "metadata": {
        "id": "2CELpvTwD2i5",
        "colab_type": "code",
        "colab": {}
      },
      "source": [
        "import pandas as pd\n",
        "import numpy as np\n",
        "import matplotlib.pyplot as plt\n",
        "import seaborn as sb"
      ],
      "execution_count": 0,
      "outputs": []
    },
    {
      "cell_type": "markdown",
      "metadata": {
        "id": "23CmD3kjHGOp",
        "colab_type": "text"
      },
      "source": [
        "**List the Seaborn datasets** "
      ]
    },
    {
      "cell_type": "code",
      "metadata": {
        "id": "O6xL2mbxGms0",
        "colab_type": "code",
        "colab": {}
      },
      "source": [
        "#List the datasets that are included with seaborn\n",
        "sb.get_dataset_names()"
      ],
      "execution_count": 0,
      "outputs": []
    },
    {
      "cell_type": "markdown",
      "metadata": {
        "id": "G8wepB3oHAcq",
        "colab_type": "text"
      },
      "source": [
        "**Load a dataset from the Seaborn library**"
      ]
    },
    {
      "cell_type": "code",
      "metadata": {
        "id": "ugk18YhXEiDG",
        "colab_type": "code",
        "colab": {}
      },
      "source": [
        "df = sb.load_dataset('tips')\n",
        "print(df.head())"
      ],
      "execution_count": 0,
      "outputs": []
    },
    {
      "cell_type": "markdown",
      "metadata": {
        "id": "1BM4VI31HNO0",
        "colab_type": "text"
      },
      "source": [
        "# **Assignment 1**: \n",
        "Load the dots dataset from Seaborn"
      ]
    },
    {
      "cell_type": "code",
      "metadata": {
        "id": "PrWRDbEOErUV",
        "colab_type": "code",
        "colab": {}
      },
      "source": [
        ""
      ],
      "execution_count": 0,
      "outputs": []
    },
    {
      "cell_type": "markdown",
      "metadata": {
        "id": "Vo8HMJygI1eG",
        "colab_type": "text"
      },
      "source": [
        "# **Turn Matplotlib plots into Seaborn plots**"
      ]
    },
    {
      "cell_type": "markdown",
      "metadata": {
        "id": "qhr9dfYOJDwf",
        "colab_type": "text"
      },
      "source": [
        "A matplotlib plot"
      ]
    },
    {
      "cell_type": "code",
      "metadata": {
        "id": "A8Poty_pHuED",
        "colab_type": "code",
        "colab": {}
      },
      "source": [
        "#A matplotlib plot\n",
        "def sinplot(flip = 1):\n",
        "   x = np.linspace(0, 14, 100)\n",
        "   for i in range(1, 5): \n",
        "      plt.plot(x, np.sin(x + i * .5) * (7 - i) * flip)\n",
        "sinplot()\n",
        "plt.show()"
      ],
      "execution_count": 0,
      "outputs": []
    },
    {
      "cell_type": "markdown",
      "metadata": {
        "id": "DBl2RssRJDGR",
        "colab_type": "text"
      },
      "source": [
        "Add sb.set to make a Matplotlib plot into a Seaborn plot"
      ]
    },
    {
      "cell_type": "code",
      "metadata": {
        "id": "q8hEKv3_GJ-b",
        "colab_type": "code",
        "colab": {}
      },
      "source": [
        "def sinplot(multiplier = 4):\n",
        "   x = np.linspace(0, 14, 100)\n",
        "   for i in range(1, 5):\n",
        "      plt.plot(x, np.sin(x + i * .5) * (7 - i) * multiplier)\n",
        "      \n",
        "sb.set() #add to the matplotlib plot\n",
        "sinplot()\n",
        "plt.show()"
      ],
      "execution_count": 0,
      "outputs": []
    },
    {
      "cell_type": "markdown",
      "metadata": {
        "id": "nPw_T8PXJbzj",
        "colab_type": "text"
      },
      "source": [
        "Seaborn splits the Matplotlib parameters into two groups\n",
        "\n",
        "* Plot styles\n",
        "* Plot scale"
      ]
    },
    {
      "cell_type": "markdown",
      "metadata": {
        "id": "vvguyk0gJk6c",
        "colab_type": "text"
      },
      "source": [
        "# **Seaborn Figure Styles**\n",
        "The interface for manipulating the styles is set_style(). <br>\n",
        "Using this function you can set the theme of the plot. \n",
        "\n",
        "The available themes:\n",
        "\n",
        "* Darkgrid\n",
        "* Whitegrid\n",
        "* Dark\n",
        "* White\n",
        "* Ticks"
      ]
    },
    {
      "cell_type": "markdown",
      "metadata": {
        "id": "myRHSUVXKAon",
        "colab_type": "text"
      },
      "source": [
        "**Change the darkgrid to a light grid**"
      ]
    },
    {
      "cell_type": "code",
      "metadata": {
        "id": "JBUpkK1uJ930",
        "colab_type": "code",
        "colab": {}
      },
      "source": [
        "def sinplot(flip=1):\n",
        "   x = np.linspace(0, 14, 100)\n",
        "   for i in range(1, 5):\n",
        "      plt.plot(x, np.sin(x + i * .5) * (7 - i) * flip)\n",
        "\n",
        "sb.set_style(\"whitegrid\")\n",
        "sinplot()\n",
        "plt.show()\n"
      ],
      "execution_count": 0,
      "outputs": []
    },
    {
      "cell_type": "markdown",
      "metadata": {
        "id": "Tn3Uq9mDKNkF",
        "colab_type": "text"
      },
      "source": [
        "In the white and ticks themes, to remove the top and right axis spines using the \n",
        ">despine() function."
      ]
    },
    {
      "cell_type": "markdown",
      "metadata": {
        "id": "aT8rs1NAKEsG",
        "colab_type": "text"
      },
      "source": [
        "# **Assignment 2**:\n",
        "Plot the sinplot using a white theme and depine the plot. "
      ]
    },
    {
      "cell_type": "code",
      "metadata": {
        "id": "2CuS3sT9Kk08",
        "colab_type": "code",
        "colab": {}
      },
      "source": [
        "#Assignment 2"
      ],
      "execution_count": 0,
      "outputs": []
    },
    {
      "cell_type": "code",
      "metadata": {
        "id": "hM6zwqyzLKZh",
        "colab_type": "code",
        "colab": {},
        "cellView": "form"
      },
      "source": [
        "#@title \n",
        "def sinplot(flip=1):\n",
        "   x = np.linspace(0, 14, 100)\n",
        "   for i in range(1, 5):\n",
        "      plt.plot(x, np.sin(x + i * .5) * (7 - i) * flip)\n",
        "sb.set_style(\"white\")\n",
        "sb.despine()\n",
        "sinplot()\n",
        "plt.show()"
      ],
      "execution_count": 0,
      "outputs": []
    },
    {
      "cell_type": "markdown",
      "metadata": {
        "id": "s2jYOMOdL2Z1",
        "colab_type": "text"
      },
      "source": [
        "# **Customize Seaborn styles**\n",
        "If you want to customize the Seaborn styles, you can pass a dictionary of parameters to the **set_style()** function. <br>\n",
        "Parameters available are viewed using **axes_style()** function."
      ]
    },
    {
      "cell_type": "code",
      "metadata": {
        "id": "TQDEaMqdMIB_",
        "colab_type": "code",
        "colab": {}
      },
      "source": [
        "#List the of setting of the styles\n",
        "sb.axes_style()"
      ],
      "execution_count": 0,
      "outputs": []
    },
    {
      "cell_type": "markdown",
      "metadata": {
        "id": "GABhiU8ANiu3",
        "colab_type": "text"
      },
      "source": [
        "**Put the grid on top of the plot**<br>\n",
        "Note: the '{' and '}' in the set_style method."
      ]
    },
    {
      "cell_type": "code",
      "metadata": {
        "id": "KCvgvpfqMOLs",
        "colab_type": "code",
        "colab": {}
      },
      "source": [
        "def sinplot(flip=1):\n",
        "   x = np.linspace(0, 14, 100)\n",
        "   for i in range(1, 5):\n",
        "      plt.plot(x, np.sin(x + i * .5) * (7 - i) * flip)\n",
        "sb.set_style(\"whitegrid\")\n",
        "sb.set_style({'axes.axisbelow':False})\n",
        "sinplot()\n",
        "plt.show()"
      ],
      "execution_count": 0,
      "outputs": []
    },
    {
      "cell_type": "code",
      "metadata": {
        "id": "yWS12yMiOSnS",
        "colab_type": "code",
        "colab": {}
      },
      "source": [
        "sb.set_style({'axes.axisbelow':True})"
      ],
      "execution_count": 0,
      "outputs": []
    },
    {
      "cell_type": "markdown",
      "metadata": {
        "id": "uHsfcTeHNpbB",
        "colab_type": "text"
      },
      "source": [
        "# **Assignment 3**:\n",
        "Experiment with different setting different styles. \n"
      ]
    },
    {
      "cell_type": "code",
      "metadata": {
        "id": "xf4m7EohN47A",
        "colab_type": "code",
        "colab": {}
      },
      "source": [
        "def sinplot(flip=1):\n",
        "   x = np.linspace(0, 14, 100)\n",
        "   for i in range(1, 5):\n",
        "      plt.plot(x, np.sin(x + i * .5) * (7 - i) * flip)\n",
        "sinplot()\n",
        "plt.show()"
      ],
      "execution_count": 0,
      "outputs": []
    }
  ]
}