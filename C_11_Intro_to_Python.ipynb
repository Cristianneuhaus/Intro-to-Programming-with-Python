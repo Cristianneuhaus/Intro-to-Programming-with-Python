{
  "nbformat": 4,
  "nbformat_minor": 0,
  "metadata": {
    "colab": {
      "name": "C 11 Intro to Python.ipynb",
      "provenance": [],
      "private_outputs": true,
      "authorship_tag": "ABX9TyM7crH6E1jqSeR6mUThjwez",
      "include_colab_link": true
    },
    "kernelspec": {
      "name": "python3",
      "display_name": "Python 3"
    }
  },
  "cells": [
    {
      "cell_type": "markdown",
      "metadata": {
        "id": "view-in-github",
        "colab_type": "text"
      },
      "source": [
        "<a href=\"https://colab.research.google.com/github/cagBRT/Intro-to-Programming-with-Python/blob/master/C_11_Intro_to_Python.ipynb\" target=\"_parent\"><img src=\"https://colab.research.google.com/assets/colab-badge.svg\" alt=\"Open In Colab\"/></a>"
      ]
    },
    {
      "cell_type": "markdown",
      "metadata": {
        "id": "mH8y1xA5IX18",
        "colab_type": "text"
      },
      "source": [
        "# **Introduction to Seaborn**"
      ]
    },
    {
      "cell_type": "markdown",
      "metadata": {
        "id": "GNxwNykhFnva",
        "colab_type": "text"
      },
      "source": [
        "**Pre-requisites**: <br>\n",
        "* Matplotlib\n",
        "* Pandas\n",
        "* Numpy\n",
        "* Python"
      ]
    },
    {
      "cell_type": "markdown",
      "metadata": {
        "id": "NTvS4W_04Dcx",
        "colab_type": "text"
      },
      "source": [
        "Matplotlib is a 2D plotting library that allows you to create publication-quality figures. Seaborn,which is based on Matplotlib, provides a high-level interface to draw statistical graphics."
      ]
    },
    {
      "cell_type": "markdown",
      "metadata": {
        "id": "XcC7dsRlD1UE",
        "colab_type": "text"
      },
      "source": [
        "Seaborn helps resolve the two major problems faced by Matplotlib; the problems are −<br>\n",
        "\n",
        "Default Matplotlib parameters<br>\n",
        "Working with data frames<br>\n",
        "\n",
        "**Seaborn is specially designed for statistical plotting.**"
      ]
    },
    {
      "cell_type": "markdown",
      "metadata": {
        "id": "sg-kkcu7ECde",
        "colab_type": "text"
      },
      "source": [
        "Dependencies of Seaborn −\n",
        "\n",
        "Python <br>\n",
        "numpy<br>\n",
        "scipy<br>\n",
        "pandas<br>\n",
        "matplotlib<br>"
      ]
    },
    {
      "cell_type": "code",
      "metadata": {
        "id": "2CELpvTwD2i5",
        "colab_type": "code",
        "colab": {}
      },
      "source": [
        "import pandas as pd\n",
        "import numpy as np\n",
        "import matplotlib.pyplot as plt\n",
        "import seaborn as sb\n",
        "from scipy import stats"
      ],
      "execution_count": 0,
      "outputs": []
    },
    {
      "cell_type": "markdown",
      "metadata": {
        "id": "23CmD3kjHGOp",
        "colab_type": "text"
      },
      "source": [
        "**List the Seaborn datasets** "
      ]
    },
    {
      "cell_type": "code",
      "metadata": {
        "id": "O6xL2mbxGms0",
        "colab_type": "code",
        "colab": {}
      },
      "source": [
        "#List the datasets that are included with seaborn\n",
        "sb.get_dataset_names()"
      ],
      "execution_count": 0,
      "outputs": []
    },
    {
      "cell_type": "markdown",
      "metadata": {
        "id": "G8wepB3oHAcq",
        "colab_type": "text"
      },
      "source": [
        "**Load a dataset from the Seaborn library**"
      ]
    },
    {
      "cell_type": "code",
      "metadata": {
        "id": "ugk18YhXEiDG",
        "colab_type": "code",
        "colab": {}
      },
      "source": [
        "df = sb.load_dataset('tips')\n",
        "print(df.head())"
      ],
      "execution_count": 0,
      "outputs": []
    },
    {
      "cell_type": "markdown",
      "metadata": {
        "id": "1BM4VI31HNO0",
        "colab_type": "text"
      },
      "source": [
        "# **Assignment 1**: \n",
        "Load the dots dataset from Seaborn"
      ]
    },
    {
      "cell_type": "code",
      "metadata": {
        "id": "PrWRDbEOErUV",
        "colab_type": "code",
        "colab": {}
      },
      "source": [
        ""
      ],
      "execution_count": 0,
      "outputs": []
    },
    {
      "cell_type": "markdown",
      "metadata": {
        "id": "Vo8HMJygI1eG",
        "colab_type": "text"
      },
      "source": [
        "# **Turn Matplotlib plots into Seaborn plots**"
      ]
    },
    {
      "cell_type": "markdown",
      "metadata": {
        "id": "qhr9dfYOJDwf",
        "colab_type": "text"
      },
      "source": [
        "A matplotlib plot"
      ]
    },
    {
      "cell_type": "code",
      "metadata": {
        "id": "A8Poty_pHuED",
        "colab_type": "code",
        "colab": {}
      },
      "source": [
        "#A matplotlib plot\n",
        "def sinplot(flip = 1):\n",
        "   x = np.linspace(0, 14, 100)\n",
        "   for i in range(1, 5): \n",
        "      plt.plot(x, np.sin(x + i * .5) * (7 - i) * flip)\n",
        "sinplot()\n",
        "plt.show()"
      ],
      "execution_count": 0,
      "outputs": []
    },
    {
      "cell_type": "markdown",
      "metadata": {
        "id": "DBl2RssRJDGR",
        "colab_type": "text"
      },
      "source": [
        "Add sb.set to make a Matplotlib plot into a Seaborn plot"
      ]
    },
    {
      "cell_type": "code",
      "metadata": {
        "id": "q8hEKv3_GJ-b",
        "colab_type": "code",
        "colab": {}
      },
      "source": [
        "sb.set() #add to the matplotlib plot\n",
        "sinplot()\n",
        "plt.show()"
      ],
      "execution_count": 0,
      "outputs": []
    },
    {
      "cell_type": "markdown",
      "metadata": {
        "id": "nPw_T8PXJbzj",
        "colab_type": "text"
      },
      "source": [
        "Seaborn splits the Matplotlib parameters into two groups\n",
        "\n",
        "* Plot styles\n",
        "* Plot scale"
      ]
    },
    {
      "cell_type": "markdown",
      "metadata": {
        "id": "vvguyk0gJk6c",
        "colab_type": "text"
      },
      "source": [
        "# **Seaborn Figure Styles**\n",
        "The interface for manipulating the styles is set_style(). <br>\n",
        "Using this function you can set the theme of the plot. \n",
        "\n",
        "The available themes:\n",
        "\n",
        "* Darkgrid\n",
        "* Whitegrid\n",
        "* Dark\n",
        "* White\n",
        "* Ticks"
      ]
    },
    {
      "cell_type": "markdown",
      "metadata": {
        "id": "myRHSUVXKAon",
        "colab_type": "text"
      },
      "source": [
        "**Change the darkgrid to a light grid**"
      ]
    },
    {
      "cell_type": "code",
      "metadata": {
        "id": "JBUpkK1uJ930",
        "colab_type": "code",
        "colab": {}
      },
      "source": [
        "sb.set_style(\"whitegrid\")\n",
        "sinplot()\n",
        "plt.show()\n"
      ],
      "execution_count": 0,
      "outputs": []
    },
    {
      "cell_type": "markdown",
      "metadata": {
        "id": "Tn3Uq9mDKNkF",
        "colab_type": "text"
      },
      "source": [
        "In the white and ticks themes, to remove the top and right axis spines using the \n",
        ">despine() function."
      ]
    },
    {
      "cell_type": "markdown",
      "metadata": {
        "id": "aT8rs1NAKEsG",
        "colab_type": "text"
      },
      "source": [
        "# **Assignment 2**:\n",
        "Plot the sinplot using a white theme and depine the plot. "
      ]
    },
    {
      "cell_type": "code",
      "metadata": {
        "id": "2CuS3sT9Kk08",
        "colab_type": "code",
        "colab": {}
      },
      "source": [
        "#Assignment 2"
      ],
      "execution_count": 0,
      "outputs": []
    },
    {
      "cell_type": "code",
      "metadata": {
        "id": "hM6zwqyzLKZh",
        "colab_type": "code",
        "colab": {},
        "cellView": "form"
      },
      "source": [
        "#@title \n",
        "def sinplot(flip=1):\n",
        "   x = np.linspace(0, 14, 100)\n",
        "   for i in range(1, 5):\n",
        "      plt.plot(x, np.sin(x + i * .5) * (7 - i) * flip)\n",
        "sb.set_style(\"white\")\n",
        "sb.despine()\n",
        "sinplot()\n",
        "plt.show()"
      ],
      "execution_count": 0,
      "outputs": []
    },
    {
      "cell_type": "markdown",
      "metadata": {
        "id": "s2jYOMOdL2Z1",
        "colab_type": "text"
      },
      "source": [
        "# **Customize Seaborn styles**\n",
        "If you want to customize the Seaborn styles, you can pass a dictionary of parameters to the **set_style()** function. <br>\n",
        "Parameters available are viewed using **axes_style()** function."
      ]
    },
    {
      "cell_type": "code",
      "metadata": {
        "id": "TQDEaMqdMIB_",
        "colab_type": "code",
        "colab": {}
      },
      "source": [
        "#List the of setting of the styles\n",
        "sb.axes_style()"
      ],
      "execution_count": 0,
      "outputs": []
    },
    {
      "cell_type": "markdown",
      "metadata": {
        "id": "GABhiU8ANiu3",
        "colab_type": "text"
      },
      "source": [
        "**Put the grid on top of the plot**<br>\n",
        "Note: the '{' and '}' in the set_style method."
      ]
    },
    {
      "cell_type": "code",
      "metadata": {
        "id": "KCvgvpfqMOLs",
        "colab_type": "code",
        "colab": {}
      },
      "source": [
        "sb.set_style(\"whitegrid\")\n",
        "sb.set_style({'axes.axisbelow':False})\n",
        "sinplot()\n",
        "plt.show()"
      ],
      "execution_count": 0,
      "outputs": []
    },
    {
      "cell_type": "code",
      "metadata": {
        "id": "yWS12yMiOSnS",
        "colab_type": "code",
        "colab": {}
      },
      "source": [
        "sb.set_style({'axes.axisbelow':True})"
      ],
      "execution_count": 0,
      "outputs": []
    },
    {
      "cell_type": "markdown",
      "metadata": {
        "id": "uHsfcTeHNpbB",
        "colab_type": "text"
      },
      "source": [
        "# **Assignment 3**:\n",
        "Experiment with different setting different styles. \n"
      ]
    },
    {
      "cell_type": "code",
      "metadata": {
        "id": "xf4m7EohN47A",
        "colab_type": "code",
        "colab": {}
      },
      "source": [
        "#Set different styles from the list above\n",
        "sinplot()\n",
        "plt.show()"
      ],
      "execution_count": 0,
      "outputs": []
    },
    {
      "cell_type": "markdown",
      "metadata": {
        "id": "-UsOAYxLO9BE",
        "colab_type": "text"
      },
      "source": [
        "# **Scaling Plot Elements**\n",
        "Control the scale of plot using the <br>\n",
        ">set_context() function. \n",
        "\n",
        "There are four preset templates for contexts, based on relative size, the contexts are named as follows\n",
        "\n",
        "* paper\n",
        "* notebook\n",
        "* talk\n",
        "* poster\n",
        "\n",
        "By default, context is set to notebook"
      ]
    },
    {
      "cell_type": "code",
      "metadata": {
        "id": "UfbQh7s5PQSO",
        "colab_type": "code",
        "colab": {}
      },
      "source": [
        "sb.set_context(\"talk\")\n",
        "sinplot()\n",
        "sb.despine()\n",
        "plt.show()"
      ],
      "execution_count": 0,
      "outputs": []
    },
    {
      "cell_type": "code",
      "metadata": {
        "id": "b6Q9hG3gRNlu",
        "colab_type": "code",
        "colab": {}
      },
      "source": [
        "sb.set_context(\"notebook\")\n",
        "sinplot()\n",
        "sb.despine()\n",
        "plt.show()"
      ],
      "execution_count": 0,
      "outputs": []
    },
    {
      "cell_type": "markdown",
      "metadata": {
        "id": "zsmwe1axQSPW",
        "colab_type": "text"
      },
      "source": [
        "# **Assignment 4:** \n",
        "Change the scale of the plot for: \n",
        "1. inclusion in a paper\n",
        "2. inclusion on a poster"
      ]
    },
    {
      "cell_type": "markdown",
      "metadata": {
        "id": "LXfwK8a5TAEI",
        "colab_type": "text"
      },
      "source": [
        "# **Violin and Box Plots**\n",
        "Create violin plots with:\n",
        ">violinplot(data= )\n",
        "<br>\n",
        "\n",
        "Create box plots with:<br>\n",
        ">boxplot(data= )"
      ]
    },
    {
      "cell_type": "code",
      "metadata": {
        "id": "je_m4RFuQqHN",
        "colab_type": "code",
        "colab": {}
      },
      "source": [
        "df = sb.load_dataset('titanic')\n",
        "print(df.columns)\n",
        "df.pop('fare')\n",
        "df.pop('age')\n",
        "df.pop('sibsp')\n",
        "df.pop('parch')\n",
        "sb.violinplot(data=df)\n",
        "sb.despine(offset=10, trim=True);"
      ],
      "execution_count": 0,
      "outputs": []
    },
    {
      "cell_type": "markdown",
      "metadata": {
        "id": "8ooFOcxBTTus",
        "colab_type": "text"
      },
      "source": [
        "# **Assignment 5:**\n",
        "1. Select a datset from the seaborn datasets\n",
        "2. Create a boxplot for the dataset"
      ]
    },
    {
      "cell_type": "markdown",
      "metadata": {
        "id": "OMmryEEFUM_M",
        "colab_type": "text"
      },
      "source": [
        "# **Color Palettes**\n",
        "Seaborn allows user to modify colors of plots. <br><br>\n",
        "To modify the color of a plot use: \n",
        ">color_palette(palette= , n_colors= , desat= )<br>\n",
        "<br>\n",
        "\n",
        "**n_colors** - the number of colors in the palette. Default is 10 colors.  If none the it will fall back to the last palette specified. <br>\n",
        "<br>\n",
        "**desat**- desaturate each color<br>\n",
        "\n",
        "[Colorbrewer ](https://colorbrewer2.org/#type=qualitative&scheme=Accent&n=6)is a webpage to show what various color palettes\n"
      ]
    },
    {
      "cell_type": "markdown",
      "metadata": {
        "id": "ndhdwo39WChw",
        "colab_type": "text"
      },
      "source": [
        "# **Palettes**\n",
        "The palette names are: <br>\n",
        "* Deep<br>\n",
        "* Muted<br>\n",
        "* Bright<br>\n",
        "* Pastel<br>\n",
        "* Dark<br>\n",
        "* Colorblind<br>\n",
        "\n",
        "Custom palettes can also be created. "
      ]
    },
    {
      "cell_type": "markdown",
      "metadata": {
        "id": "bFiscq7WWqJS",
        "colab_type": "text"
      },
      "source": [
        "**Print the colors of the current palette in a line**"
      ]
    },
    {
      "cell_type": "code",
      "metadata": {
        "id": "nMBBkBvpVT-m",
        "colab_type": "code",
        "colab": {}
      },
      "source": [
        "current_palette = sb.color_palette(\"bright\")\n",
        "sb.palplot(current_palette)\n",
        "plt.show()"
      ],
      "execution_count": 0,
      "outputs": []
    },
    {
      "cell_type": "markdown",
      "metadata": {
        "id": "fmhM5jq1YLAU",
        "colab_type": "text"
      },
      "source": [
        "# **Assignment 7**\n",
        "Print each of the Seaborn palettes "
      ]
    },
    {
      "cell_type": "markdown",
      "metadata": {
        "id": "gQxv3D4PXQWc",
        "colab_type": "text"
      },
      "source": [
        "**Color palette types:** <br>\n",
        "\n",
        "color_palette() types\n",
        "\n",
        "* qualitative\n",
        "* sequential\n",
        "* diverging"
      ]
    },
    {
      "cell_type": "code",
      "metadata": {
        "id": "cM4M7G4kW2Do",
        "colab_type": "code",
        "colab": {}
      },
      "source": [
        "current_palette = sb.color_palette()\n",
        "sb.palplot(sb.color_palette(\"Purples\"))\n",
        "plt.show()"
      ],
      "execution_count": 0,
      "outputs": []
    },
    {
      "cell_type": "code",
      "metadata": {
        "id": "Kn-BS5J0be4R",
        "colab_type": "code",
        "colab": {}
      },
      "source": [
        "diverging_colors = sb.color_palette(\"RdBu\",8)\n",
        "sb.palplot(diverging_colors)"
      ],
      "execution_count": 0,
      "outputs": []
    },
    {
      "cell_type": "markdown",
      "metadata": {
        "id": "KYKrM-ULW6Nh",
        "colab_type": "text"
      },
      "source": [
        "**Print the colors of a sequential color palette**<br>\n",
        "Some of the colors are:<br>\n",
        "> green, red, blue, orange, grey, purple"
      ]
    },
    {
      "cell_type": "markdown",
      "metadata": {
        "id": "a8-LeqXlXCFZ",
        "colab_type": "text"
      },
      "source": [
        "# **Assignment 6**\n",
        "1. Print a sequential color palette with 10 shades of color. \n",
        "2. Print a diverging color palette with 8 shades of color.  "
      ]
    },
    {
      "cell_type": "markdown",
      "metadata": {
        "id": "-oWelklPellR",
        "colab_type": "text"
      },
      "source": [
        "[Seaborn Bar charts](https://seaborn.pydata.org/generated/seaborn.barplot.htmls://)"
      ]
    },
    {
      "cell_type": "code",
      "metadata": {
        "id": "erhXOiM4cLOQ",
        "colab_type": "code",
        "colab": {}
      },
      "source": [
        "df = sb.load_dataset('tips')\n",
        "current_palette = sb.color_palette(\"Blues\")\n",
        "sb.set_style(\"white\")\n",
        "sb.set_palette(current_palette)\n",
        "sb.barplot(x=\"day\", y=\"total_bill\", data=df)"
      ],
      "execution_count": 0,
      "outputs": []
    },
    {
      "cell_type": "code",
      "metadata": {
        "id": "vCqiHZmqdeO1",
        "colab_type": "code",
        "colab": {}
      },
      "source": [
        "current_palette = sb.color_palette(\"bright\")\n",
        "sb.set_style(\"white\")\n",
        "sb.set_palette(current_palette)\n",
        "sb.barplot(x=\"day\", y=\"total_bill\", hue=\"sex\", data=df)"
      ],
      "execution_count": 0,
      "outputs": []
    },
    {
      "cell_type": "markdown",
      "metadata": {
        "id": "UJML1dndeCWR",
        "colab_type": "text"
      },
      "source": [
        "# **Assignment 7**\n",
        "1. Pick one of the Seaborn datasets\n",
        "2. Select a color palette\n",
        "3. Create plots for the dataset\n"
      ]
    },
    {
      "cell_type": "markdown",
      "metadata": {
        "id": "FSsPowKzfMlI",
        "colab_type": "text"
      },
      "source": [
        "# **Visualizing the distribution of a dataset**"
      ]
    },
    {
      "cell_type": "code",
      "metadata": {
        "id": "l4x-5g0EfFUH",
        "colab_type": "code",
        "colab": {}
      },
      "source": [
        "sb.set(color_codes=True)\n",
        "x = np.random.normal(size=100)\n",
        "sb.distplot(x);"
      ],
      "execution_count": 0,
      "outputs": []
    }
  ]
}