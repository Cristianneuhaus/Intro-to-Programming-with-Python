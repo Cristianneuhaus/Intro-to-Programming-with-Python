{
  "nbformat": 4,
  "nbformat_minor": 0,
  "metadata": {
    "colab": {
      "name": "C8 Intro to Python.ipynb",
      "provenance": [],
      "private_outputs": true,
      "collapsed_sections": [],
      "include_colab_link": true
    },
    "kernelspec": {
      "name": "python3",
      "display_name": "Python 3"
    }
  },
  "cells": [
    {
      "cell_type": "markdown",
      "metadata": {
        "id": "view-in-github",
        "colab_type": "text"
      },
      "source": [
        "<a href=\"https://colab.research.google.com/github/cagBRT/Intro-to-Programming-with-Python/blob/master/C8_Intro_to_Python.ipynb\" target=\"_parent\"><img src=\"https://colab.research.google.com/assets/colab-badge.svg\" alt=\"Open In Colab\"/></a>"
      ]
    },
    {
      "cell_type": "markdown",
      "metadata": {
        "id": "K3BhuCRC2mqW",
        "colab_type": "text"
      },
      "source": [
        "# **MatPlotlib**"
      ]
    },
    {
      "cell_type": "code",
      "metadata": {
        "id": "ZGvK6lyz2fca",
        "colab_type": "code",
        "colab": {}
      },
      "source": [
        "# Clone the entire repo.\n",
        "!git clone -l -s https://github.com/cagBRT/Intro-to-Programming-with-Python.git cloned-repo\n",
        "%cd cloned-repo\n",
        "!ls"
      ],
      "execution_count": 0,
      "outputs": []
    },
    {
      "cell_type": "code",
      "metadata": {
        "id": "vRdB7f8NUfJc",
        "colab_type": "code",
        "colab": {}
      },
      "source": [
        "from IPython.display import Image\n",
        "def page(num):\n",
        "    return Image(\"c8-content/c8PythonProgramming\"+str(num)+ \".png\" , width=640)"
      ],
      "execution_count": 0,
      "outputs": []
    },
    {
      "cell_type": "markdown",
      "metadata": {
        "id": "dMZ5LwNrUzZr",
        "colab_type": "text"
      },
      "source": [
        "# **Introduction to Matplotlib**"
      ]
    },
    {
      "cell_type": "markdown",
      "metadata": {
        "id": "iI9otsKTUn_r",
        "colab_type": "text"
      },
      "source": [
        "Matplotlib is a very powerful plotting library useful for those working with Python and NumPy. The most used module of Matplotib is Pyplot which provides an interface like MATLAB. It uses Python and it is open source."
      ]
    },
    {
      "cell_type": "code",
      "metadata": {
        "id": "OQmGd-IpUj-j",
        "colab_type": "code",
        "colab": {}
      },
      "source": [
        "page(1)"
      ],
      "execution_count": 0,
      "outputs": []
    },
    {
      "cell_type": "markdown",
      "metadata": {
        "id": "pKyXIht1U6ce",
        "colab_type": "text"
      },
      "source": [
        "Install the matplotlib library"
      ]
    },
    {
      "cell_type": "code",
      "metadata": {
        "id": "SYy9VArmU5z5",
        "colab_type": "code",
        "colab": {}
      },
      "source": [
        "!pip install -U matplotlib"
      ],
      "execution_count": 0,
      "outputs": []
    },
    {
      "cell_type": "markdown",
      "metadata": {
        "id": "aKCu2D6TVb32",
        "colab_type": "text"
      },
      "source": [
        "# **Import Matplotlib** \n",
        "Notice that Matplotlib is installed as plt. This is done to make it easier to type code. <br>\n",
        "Instead of having to add the full library name each time you use a matplotlib command, you can use plt. \n",
        "<br>\n",
        "The import \"as\" works with any import statement. "
      ]
    },
    {
      "cell_type": "code",
      "metadata": {
        "id": "Inu5slAUVQVf",
        "colab_type": "code",
        "colab": {}
      },
      "source": [
        "import matplotlib.pyplot as plt"
      ],
      "execution_count": 0,
      "outputs": []
    },
    {
      "cell_type": "markdown",
      "metadata": {
        "id": "fIPdMvvFVruT",
        "colab_type": "text"
      },
      "source": [
        "# **Make a simple plot**\n"
      ]
    },
    {
      "cell_type": "code",
      "metadata": {
        "id": "uyD1AHN2WRrR",
        "colab_type": "code",
        "colab": {}
      },
      "source": [
        "#Plot a set of 5 points on a graph\n",
        "plt.plot([2,4,6,8,10], [1,3,5,7,9])\n",
        "#Use show to print it\n",
        "plt.show()"
      ],
      "execution_count": 0,
      "outputs": []
    },
    {
      "cell_type": "markdown",
      "metadata": {
        "id": "-je0tjjYXQyU",
        "colab_type": "text"
      },
      "source": [
        "# **Assignment #1**\n",
        "1. Plot the following points\n",
        ">(1,7), (5,6), (10,5), (15, 4), (20, 3), (25, 2), (30,1)"
      ]
    },
    {
      "cell_type": "code",
      "metadata": {
        "id": "1fvunmXfhXKl",
        "colab_type": "code",
        "colab": {}
      },
      "source": [
        ""
      ],
      "execution_count": 0,
      "outputs": []
    },
    {
      "cell_type": "markdown",
      "metadata": {
        "id": "gO1VA9xKhehx",
        "colab_type": "text"
      },
      "source": [
        "# **Plot from Python Lists**"
      ]
    },
    {
      "cell_type": "code",
      "metadata": {
        "id": "Um7pmln9WulD",
        "colab_type": "code",
        "colab": {}
      },
      "source": [
        "#Plot a set of 5 points on a graph\n",
        "#The points can be lists\n",
        "x_coordinate = [2,4,6,8,10]\n",
        "y_coordinate = [1,3,5,7,9]\n",
        "plt.plot(x_coordinate, y_coordinate)\n",
        "#Use show to print it\n",
        "plt.show()"
      ],
      "execution_count": 0,
      "outputs": []
    },
    {
      "cell_type": "markdown",
      "metadata": {
        "id": "zgIcCIBZYDaO",
        "colab_type": "text"
      },
      "source": [
        "# **Assignment #2**\n",
        "Plot the following lists. <br>\n",
        "list1 along the x axis <br>\n",
        "list2 along the y axis <br>\n",
        ">list1 = [22,33,44,55,66,77] <br>\n",
        ">list2 = [1, 4, 16, 55, 67, 98]\n"
      ]
    },
    {
      "cell_type": "code",
      "metadata": {
        "id": "5ZMHoGGmr8DA",
        "colab_type": "code",
        "colab": {}
      },
      "source": [
        ""
      ],
      "execution_count": 0,
      "outputs": []
    },
    {
      "cell_type": "markdown",
      "metadata": {
        "id": "3BOMB5cZXH5X",
        "colab_type": "text"
      },
      "source": [
        "# **Add titles and labels**"
      ]
    },
    {
      "cell_type": "code",
      "metadata": {
        "id": "YwXc7c-JWuuQ",
        "colab_type": "code",
        "colab": {}
      },
      "source": [
        "list1 = [22,33,44,55,66,77]\n",
        "list2 = [1, 4, 16, 20, 23, 98]\n",
        "plt.plot(list1, list2)\n",
        "\n",
        "#add a title to the plot\n",
        "plt.title(\"Simple Plot\")\n",
        "#add x and y labels to a plot\n",
        "plt.xlabel(\"list1\")\n",
        "plt.ylabel(\"list2\")\n",
        "plt.show()"
      ],
      "execution_count": 0,
      "outputs": []
    },
    {
      "cell_type": "markdown",
      "metadata": {
        "id": "1Qhp7hDBZieo",
        "colab_type": "text"
      },
      "source": [
        "# **Assignment #3**\n",
        "1. Plot the following lists\n",
        "> list_x = [33.23,34,32.65,65.4,90]<br>\n",
        ">list_y = [2.32,0.33,2.021,55.0,65.33]<br>\n",
        "2. Add a title and x and y axis labels to the plot"
      ]
    },
    {
      "cell_type": "markdown",
      "metadata": {
        "id": "PfnHDJ28c9AW",
        "colab_type": "text"
      },
      "source": [
        "# **Change the size of a figure**\n",
        "Change the size of a figure with:<br>\n",
        "plt.figure(figsize=(x dimension, y dimension)\n"
      ]
    },
    {
      "cell_type": "code",
      "metadata": {
        "id": "39SCVuVSc7Vt",
        "colab_type": "code",
        "colab": {}
      },
      "source": [
        "list1 = [22,33,44,55,66,77]\n",
        "list2 = [1, 4, 3.4, 15.6, 3, 98]\n",
        "#plt.figure has to come before the first plt.plot statement\n",
        "plt.figure(figsize=(10,3))\n",
        "plt.plot(list1, list2)\n",
        "\n",
        "#add a title to the plot\n",
        "plt.title(\"Simple Plot\")\n",
        "#add x and y labels to a plot\n",
        "plt.xlabel(\"list1\")\n",
        "plt.ylabel(\"list2\")\n",
        "\n",
        "plt.show()"
      ],
      "execution_count": 0,
      "outputs": []
    },
    {
      "cell_type": "markdown",
      "metadata": {
        "id": "eQJqXLjLd9pt",
        "colab_type": "text"
      },
      "source": [
        "# **Assignment #4**\n",
        "1. Create a plot of a set of 10 points\n",
        "2. Change the figure to have dimensions 8x2"
      ]
    },
    {
      "cell_type": "markdown",
      "metadata": {
        "id": "nC-NJu4FeZMQ",
        "colab_type": "text"
      },
      "source": [
        "# **Change the format of the line in a plot**\n",
        "When plotting a line, the color and the type of line can be specified using: \n",
        ">plt.plot(x_points, y_points, \"color-shape\")<br>\n",
        "**Color choices are**:<br>\n",
        "b = blue<br>\n",
        "g = green<br>\n",
        "r= red<br>\n",
        "c = cyan<br>\n",
        "m = magenta<br>\n",
        "y = yellow<br>\n",
        "k = black<br>\n",
        "w = white<br>\n",
        "grey = '0.##' -->  # =  0-1<br>\n",
        "**OR**<br>\n",
        "color='######' -->  # = 0-f numbers<br>\n",
        "<br>\n",
        "**Types of lines**<br>\n",
        "o --> point<br>\n",
        "'-' --> --------<br>\n",
        "'-.' --> -.-.-.-.<br>\n",
        "':' --> .........<br>"
      ]
    },
    {
      "cell_type": "code",
      "metadata": {
        "id": "VDuMP7Y0gggX",
        "colab_type": "code",
        "colab": {}
      },
      "source": [
        "#Changing the format of a line in a plot\n",
        "list1 = [22,33,44,55,66,77]\n",
        "list2 = [1, 4, 3.4, 15.6, 3, 98]\n",
        "list3 = [10,33,44,50,60,65]\n",
        "list4 = [10, 14, 23.4, 5.6, 30, 98]\n",
        "list5 = [1,2,31,44,50,60]\n",
        "list6 = [10,20,30,40,50,60]\n",
        "list7 = [12,22,32,42,55,63]\n",
        "list8 = [13,24,35,46,57,68]\n",
        "#plt.figure has to come before the first plt.plot statement\n",
        "plt.figure(figsize=(10,3))\n",
        "plt.plot(list1, list2, 'r-')\n",
        "plt.plot(list3, list4, 'b--')\n",
        "\n",
        "#'+' plots the points as a '+'\n",
        "plt.plot(list5, list6, 'g+')\n",
        "#the 'o' plots dots for each point\n",
        "plt.plot(list7, list8, 'mo')\n",
        "\n",
        "#add a title to the plot\n",
        "plt.title(\"Simple Plot\")\n",
        "plt.show()"
      ],
      "execution_count": 0,
      "outputs": []
    },
    {
      "cell_type": "markdown",
      "metadata": {
        "id": "jVluTEfmi8_9",
        "colab_type": "text"
      },
      "source": [
        "Links to Matplotlib colors and line sytles\n",
        "\n",
        "https://matplotlib.org/gallery/lines_bars_and_markers/line_styles_reference.html\n",
        "\n",
        "https://matplotlib.org/3.1.1/tutorials/colors/colors.html\n"
      ]
    },
    {
      "cell_type": "markdown",
      "metadata": {
        "id": "p1yTwmLbh1kB",
        "colab_type": "text"
      },
      "source": [
        "# **Assignment #5**\n",
        "1. Plot the following points: \n",
        "> list_x = [13,24,35,46,57,68]<br>\n",
        ">list_y = [12,22,32,42,55,63]<br>\n",
        "\n",
        "The plot should have: \n",
        "*   Dimensions 10, 4\n",
        "*   A title\n",
        "\n",
        "*   Labels for the x and y axis\n",
        "*   The line of the data points should be red\n",
        "\n",
        "\n",
        "*   The line should be of the form '--'\n",
        "\n",
        "\n",
        "\n",
        "\n"
      ]
    },
    {
      "cell_type": "code",
      "metadata": {
        "id": "HsdpULuuh5NL",
        "colab_type": "code",
        "colab": {}
      },
      "source": [
        "#Assignment 5\n"
      ],
      "execution_count": 0,
      "outputs": []
    },
    {
      "cell_type": "markdown",
      "metadata": {
        "id": "2LLL2dVJj-P4",
        "colab_type": "text"
      },
      "source": [
        "## **Multiple Plots in one Figure**\n",
        "To add multiple plots in one figure, use the plt.subplot function. <br><br>\n",
        "plt.subplot(number-of-rows, number-of-columns, index)<br><br>\n",
        "Note: index begins with 1"
      ]
    },
    {
      "cell_type": "code",
      "metadata": {
        "id": "2v0qyAxIlF-b",
        "colab_type": "code",
        "colab": {}
      },
      "source": [
        "#Adding multiplots to one figure\n",
        "plt.subplot(1,2,1) #1 row, 2 columns, first plot\n",
        "plt.plot([3,4,5,9],[55,44,2,8],'r--')\n",
        "plt.title(\"The 1st Subplot\")\n",
        "\n",
        "#The second subplot\n",
        "plt.subplot(1,2,2) #1 row, 2 columns, second plot\n",
        "x = [1,2,3,4,5]\n",
        "y = [3,5,7, 9, 10]\n",
        "plt.plot(x,y,'g')"
      ],
      "execution_count": 0,
      "outputs": []
    },
    {
      "cell_type": "markdown",
      "metadata": {
        "id": "5HeKyNs8mlM5",
        "colab_type": "text"
      },
      "source": [
        "# **Assignment #6**\n",
        "1. Create two sets of x,y coordinates. There should be 5 points in each set. \n",
        "2. Plot both lines in separate plots in the same figure. \n",
        "3. Make the first plot have a blue line and the second plot should have a red line. \n",
        "\n",
        "\n"
      ]
    },
    {
      "cell_type": "code",
      "metadata": {
        "id": "i-NlfYqBnFJ_",
        "colab_type": "code",
        "colab": {}
      },
      "source": [
        ""
      ],
      "execution_count": 0,
      "outputs": []
    },
    {
      "cell_type": "markdown",
      "metadata": {
        "id": "VX44yNbHnVVi",
        "colab_type": "text"
      },
      "source": [
        "**Plots in a single column**<br>\n",
        "You can change the subplot input parameters and make one plot above the other. \n"
      ]
    },
    {
      "cell_type": "code",
      "metadata": {
        "id": "NWxCAE3Vnm5g",
        "colab_type": "code",
        "colab": {}
      },
      "source": [
        "#Adding multiplots to one figure\n",
        "plt.subplot(2,1,1) #2 rows, 1 column, first plot\n",
        "plt.plot([3,4,5,9],[55,44,2,8],'r--')\n",
        "plt.title(\"The 1st Subplot\")\n",
        "\n",
        "#The second subplot\n",
        "plt.subplot(2,1,2) #2 rows, 1 column, second plot\n",
        "x = [1,2,3,4,5]\n",
        "y = [3,5,7, 9, 10]\n",
        "plt.plot(x,y,'g')"
      ],
      "execution_count": 0,
      "outputs": []
    },
    {
      "cell_type": "markdown",
      "metadata": {
        "id": "VYcc0QALo93L",
        "colab_type": "text"
      },
      "source": [
        "# \n",
        "Pyplot uses a MatPlotLib method called bar() to make bar graphs. <br>These bar graphs use catagorical data. \n",
        "<br>\n",
        "Format for the bar method is: <br>\n",
        ">bar(x-axis values, y-axis values, color='color-name')"
      ]
    },
    {
      "cell_type": "code",
      "metadata": {
        "id": "Ph7bWDkExyzp",
        "colab_type": "code",
        "colab": {}
      },
      "source": [
        "#Pyplot uses a MatPlotLib method called bar() to make bar graphs. \n",
        "#bar(x-axis values, y-axis values, color='color-name')\n",
        "\n",
        "students=['Sue','Tom','Bill','Ann']\n",
        "grades=[43,85,38,97]\n",
        "\n",
        "plt.bar(students, grades)"
      ],
      "execution_count": 0,
      "outputs": []
    },
    {
      "cell_type": "markdown",
      "metadata": {
        "id": "2iOd-llt97kX",
        "colab_type": "text"
      },
      "source": [
        "# **Assignment #7**\n",
        "1. Create a list of 5 classes. \n",
        "2. Create a list of enrollment for the classes. \n",
        "3. Create a bar chart to show enrollment per class. "
      ]
    },
    {
      "cell_type": "markdown",
      "metadata": {
        "id": "z7mxejGozvao",
        "colab_type": "text"
      },
      "source": [
        "# **Assignment #8 Optional**\n",
        "1. Read the csv file called chord-progressions.csv. It is in \n",
        ">content/cloned-repo/data_files/chord-progressions.csv\n",
        "2. Create a bar chart using listing the progression quality and the 4th chord for 5 types of progression. \n"
      ]
    },
    {
      "cell_type": "code",
      "metadata": {
        "id": "jPX-UoshuhMn",
        "colab_type": "code",
        "colab": {}
      },
      "source": [
        "import csv\n",
        "import matplotlib.pyplot as plt\n",
        "\n",
        "with open('/content/cloned-repo/data_files/chord-progressions.csv') as csvfile:\n",
        "  file_reader = csv.reader(csvfile, delimiter=',', quotechar='|')\n",
        "  chords_list = list(file_reader)\n",
        "\n",
        "chords_list.pop(0) #delete header line\n",
        "chords_list.sort(key = lambda x:x[1])\n",
        "\n",
        "for i in range(4):  \n",
        "  print(chords_list[i][4], chords_list[i][3])\n",
        "\n",
        "for i in range(0,4):  \n",
        "  #plt.ylim(0,5)\n",
        "  plt.bar(chords_list[i][4],chords_list[i][3])"
      ],
      "execution_count": 0,
      "outputs": []
    },
    {
      "cell_type": "markdown",
      "metadata": {
        "id": "g81LPEohX3gb",
        "colab_type": "text"
      },
      "source": [
        "# **Debug Exercise**\n",
        "Find the errors in the code. <br>\n",
        "The output should look the the following image:"
      ]
    },
    {
      "cell_type": "code",
      "metadata": {
        "id": "u-iVbHxM6GGH",
        "colab_type": "code",
        "colab": {}
      },
      "source": [
        "page(2)"
      ],
      "execution_count": 0,
      "outputs": []
    },
    {
      "cell_type": "code",
      "metadata": {
        "id": "MFvvdWR3-5Zl",
        "colab_type": "code",
        "colab": {}
      },
      "source": [
        "\n",
        "import matplotlib.plot as ptl\n",
        "\n",
        "with open('/content/cloned-repo/c7-content/freshman_lbs.csv') as cvsfile\n",
        "  file_reader = csv_reader(csvfile, delimiter=',', quotechar='|')\n",
        "  weight_list = list(file-reader)\n",
        "\n",
        "\n",
        "weight_list.sort(key = lambda x:x[1])\n",
        "\n",
        "plt.figure(figsize=(10,15))\n",
        "\n",
        "for i in range(1 20):  \n",
        "  print(weight_list[i,1], weight_list[i,3])\n",
        "  plot.plot(weight_list[i][1], weight_list[i][3], '0')\n",
        "\n",
        "#add a title to the plot\n",
        "plot.title(Weight vs BMI)\n",
        "#add x and y labels to a plot\n",
        "plot.xlabel(\"weight\")\n",
        "plot.ylabel(\"bmi\")\n",
        "\n",
        "plot-show()"
      ],
      "execution_count": 0,
      "outputs": []
    }
  ]
}